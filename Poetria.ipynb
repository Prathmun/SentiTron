{
 "cells": [
  {
   "cell_type": "code",
   "execution_count": 1,
   "id": "leading-anxiety",
   "metadata": {},
   "outputs": [],
   "source": [
    "import gzip, json\n",
    "import random\n",
    "import re\n",
    "import pronouncing"
   ]
  },
  {
   "cell_type": "code",
   "execution_count": 2,
   "id": "centered-comparison",
   "metadata": {},
   "outputs": [],
   "source": [
    "all_lines =[]\n",
    "for line in gzip.open(\"gutenberg-poetry-v001.ndjson.gz\"):\n",
    "    all_lines.append(json.loads(line.strip()))"
   ]
  },
  {
   "cell_type": "code",
   "execution_count": 3,
   "id": "dangerous-package",
   "metadata": {},
   "outputs": [],
   "source": [
    "#The following cell builds the data structure proposed above: a dictionary that maps rhyming parts \n",
    "#to a dictionary that maps words with that rhyming part to the lines of poetry that they're found at the end of.\n",
    "from collections import defaultdict\n",
    "by_rhyming_part = defaultdict(lambda: defaultdict(list))\n",
    "for line in all_lines:\n",
    "    text = line['s']\n",
    "    if not(32 < len(text) < 48): # only use lines of uniform lengths\n",
    "        continue\n",
    "    match = re.search(r'(\\b\\w+\\b)\\W*$', text)\n",
    "    if match:\n",
    "        last_word = match.group()\n",
    "        pronunciations = pronouncing.phones_for_word(last_word)\n",
    "        if len(pronunciations) > 0:\n",
    "               rhyming_part = pronouncing.rhyming_part(pronunciations[0])\n",
    "               # group by rhyming phones (for rhymes) and words (to avoid duplicate words)\n",
    "               by_rhyming_part[rhyming_part][last_word.lower()].append(text)\n",
    "               \n",
    "               "
   ]
  },
  {
   "cell_type": "code",
   "execution_count": 298,
   "id": "english-heading",
   "metadata": {
    "scrolled": true
   },
   "outputs": [
    {
     "name": "stdout",
     "output_type": "stream",
     "text": [
      "True\n",
      "[]\n"
     ]
    },
    {
     "ename": "AttributeError",
     "evalue": "'list' object has no attribute 'split'",
     "output_type": "error",
     "traceback": [
      "\u001b[1;31m---------------------------------------------------------------------------\u001b[0m",
      "\u001b[1;31mAttributeError\u001b[0m                            Traceback (most recent call last)",
      "\u001b[1;32m<ipython-input-298-08adf5f09ea9>\u001b[0m in \u001b[0;36m<module>\u001b[1;34m\u001b[0m\n\u001b[0;32m      3\u001b[0m \u001b[0mphones\u001b[0m \u001b[1;33m=\u001b[0m \u001b[0mpronouncing\u001b[0m\u001b[1;33m.\u001b[0m\u001b[0mphones_for_word\u001b[0m\u001b[1;33m(\u001b[0m\u001b[0msource_word\u001b[0m\u001b[1;33m)\u001b[0m\u001b[1;31m#[0] #\u001b[0m\u001b[1;33m\u001b[0m\u001b[1;33m\u001b[0m\u001b[0m\n\u001b[0;32m      4\u001b[0m \u001b[0mprint\u001b[0m\u001b[1;33m(\u001b[0m\u001b[0mphones\u001b[0m\u001b[1;33m)\u001b[0m\u001b[1;33m\u001b[0m\u001b[1;33m\u001b[0m\u001b[0m\n\u001b[1;32m----> 5\u001b[1;33m \u001b[0mrhyming_part\u001b[0m \u001b[1;33m=\u001b[0m \u001b[0mpronouncing\u001b[0m\u001b[1;33m.\u001b[0m\u001b[0mrhyming_part\u001b[0m\u001b[1;33m(\u001b[0m\u001b[0mphones\u001b[0m\u001b[1;33m)\u001b[0m\u001b[1;33m\u001b[0m\u001b[1;33m\u001b[0m\u001b[0m\n\u001b[0m",
      "\u001b[1;32mc:\\users\\prathmun\\appdata\\local\\programs\\python\\python39\\lib\\site-packages\\pronouncing\\__init__.py\u001b[0m in \u001b[0;36mrhyming_part\u001b[1;34m(phones)\u001b[0m\n\u001b[0;32m    148\u001b[0m     \u001b[1;33m:\u001b[0m\u001b[0mreturns\u001b[0m\u001b[1;33m:\u001b[0m \u001b[0ma\u001b[0m \u001b[0mstring\u001b[0m \u001b[1;32mwith\u001b[0m \u001b[0mjust\u001b[0m \u001b[0mthe\u001b[0m \u001b[1;34m\"rhyming part\"\u001b[0m \u001b[0mof\u001b[0m \u001b[0mthose\u001b[0m \u001b[0mphones\u001b[0m\u001b[1;33m\u001b[0m\u001b[1;33m\u001b[0m\u001b[0m\n\u001b[0;32m    149\u001b[0m     \"\"\"\n\u001b[1;32m--> 150\u001b[1;33m     \u001b[0mphones_list\u001b[0m \u001b[1;33m=\u001b[0m \u001b[0mphones\u001b[0m\u001b[1;33m.\u001b[0m\u001b[0msplit\u001b[0m\u001b[1;33m(\u001b[0m\u001b[1;33m)\u001b[0m\u001b[1;33m\u001b[0m\u001b[1;33m\u001b[0m\u001b[0m\n\u001b[0m\u001b[0;32m    151\u001b[0m     \u001b[1;32mfor\u001b[0m \u001b[0mi\u001b[0m \u001b[1;32min\u001b[0m \u001b[0mrange\u001b[0m\u001b[1;33m(\u001b[0m\u001b[0mlen\u001b[0m\u001b[1;33m(\u001b[0m\u001b[0mphones_list\u001b[0m\u001b[1;33m)\u001b[0m \u001b[1;33m-\u001b[0m \u001b[1;36m1\u001b[0m\u001b[1;33m,\u001b[0m \u001b[1;36m0\u001b[0m\u001b[1;33m,\u001b[0m \u001b[1;33m-\u001b[0m\u001b[1;36m1\u001b[0m\u001b[1;33m)\u001b[0m\u001b[1;33m:\u001b[0m\u001b[1;33m\u001b[0m\u001b[1;33m\u001b[0m\u001b[0m\n\u001b[0;32m    152\u001b[0m         \u001b[1;32mif\u001b[0m \u001b[0mphones_list\u001b[0m\u001b[1;33m[\u001b[0m\u001b[0mi\u001b[0m\u001b[1;33m]\u001b[0m\u001b[1;33m[\u001b[0m\u001b[1;33m-\u001b[0m\u001b[1;36m1\u001b[0m\u001b[1;33m]\u001b[0m \u001b[1;32min\u001b[0m \u001b[1;34m'12'\u001b[0m\u001b[1;33m:\u001b[0m\u001b[1;33m\u001b[0m\u001b[1;33m\u001b[0m\u001b[0m\n",
      "\u001b[1;31mAttributeError\u001b[0m: 'list' object has no attribute 'split'"
     ]
    }
   ],
   "source": [
    "source_word = 'knelling'\n",
    "print(source_word.isalpha())\n",
    "phones = pronouncing.phones_for_word(source_word)#[0] #\n",
    "print(phones)\n",
    "rhyming_part = pronouncing.rhyming_part(phones)"
   ]
  },
  {
   "cell_type": "code",
   "execution_count": 296,
   "id": "exempt-point",
   "metadata": {},
   "outputs": [
    {
     "name": "stdout",
     "output_type": "stream",
     "text": [
      "52\n"
     ]
    },
    {
     "data": {
      "text/plain": [
       "dict_keys(['blaze', 'praise', 'raise', 'rase', 'ways', 'gaze', 'days', 'graze', 'amaze', 'stays', 'surveys', 'obeys', 'delays', \"days'\", 'phrase', 'strays', 'weighs', 'lays', 'betrays', 'displays', 'plays', 'maze', 'ablaze', 'haze', 'bays', 'rays', 'pays', 'claes', 'jays', 'bayes', 'craze', 'sways', 'prays', 'maize', 'glaze', 'essays', 'chaise', 'portrays', 'mays', 'conveys', 'decays', 'sprays', 'phase', 'repays', 'dismays', 'res', 'raze', 'appraise', 'grays', 'chalets', 'preys', 'baize'])"
      ]
     },
     "execution_count": 296,
     "metadata": {},
     "output_type": "execute_result"
    }
   ],
   "source": [
    "print(len(by_rhyming_part[rhyming_part]))\n",
    "by_rhyming_part[rhyming_part].keys()\n"
   ]
  },
  {
   "cell_type": "code",
   "execution_count": 194,
   "id": "welcome-contractor",
   "metadata": {},
   "outputs": [
    {
     "data": {
      "text/plain": [
       "False"
      ]
     },
     "execution_count": 194,
     "metadata": {},
     "output_type": "execute_result"
    }
   ],
   "source": [
    "\" \".isalpha()"
   ]
  },
  {
   "cell_type": "code",
   "execution_count": 310,
   "id": "grateful-shelf",
   "metadata": {
    "scrolled": true
   },
   "outputs": [
    {
     "ename": "UnboundLocalError",
     "evalue": "local variable 'line2' referenced before assignment",
     "output_type": "error",
     "traceback": [
      "\u001b[1;31m---------------------------------------------------------------------------\u001b[0m",
      "\u001b[1;31mUnboundLocalError\u001b[0m                         Traceback (most recent call last)",
      "\u001b[1;32m<ipython-input-310-cce419720c9d>\u001b[0m in \u001b[0;36m<module>\u001b[1;34m\u001b[0m\n\u001b[1;32m----> 1\u001b[1;33m \u001b[0mline1\u001b[0m\u001b[1;33m,\u001b[0m \u001b[0mline2\u001b[0m\u001b[1;33m,\u001b[0m \u001b[0mline3\u001b[0m\u001b[1;33m,\u001b[0m \u001b[0mline4\u001b[0m\u001b[1;33m,\u001b[0m \u001b[0mline5\u001b[0m \u001b[1;33m=\u001b[0m \u001b[0mlimirick_machine\u001b[0m\u001b[1;33m(\u001b[0m\u001b[1;33m)\u001b[0m\u001b[1;33m\u001b[0m\u001b[1;33m\u001b[0m\u001b[0m\n\u001b[0m\u001b[0;32m      2\u001b[0m \u001b[0mprint\u001b[0m\u001b[1;33m(\u001b[0m\u001b[0mline1\u001b[0m\u001b[1;33m)\u001b[0m\u001b[1;33m\u001b[0m\u001b[1;33m\u001b[0m\u001b[0m\n\u001b[0;32m      3\u001b[0m \u001b[0mprint\u001b[0m\u001b[1;33m(\u001b[0m\u001b[0mline2\u001b[0m\u001b[1;33m)\u001b[0m\u001b[1;33m\u001b[0m\u001b[1;33m\u001b[0m\u001b[0m\n\u001b[0;32m      4\u001b[0m \u001b[0mprint\u001b[0m\u001b[1;33m(\u001b[0m\u001b[0mline3\u001b[0m\u001b[1;33m)\u001b[0m\u001b[1;33m\u001b[0m\u001b[1;33m\u001b[0m\u001b[0m\n\u001b[0;32m      5\u001b[0m \u001b[0mprint\u001b[0m\u001b[1;33m(\u001b[0m\u001b[0mline4\u001b[0m\u001b[1;33m)\u001b[0m\u001b[1;33m\u001b[0m\u001b[1;33m\u001b[0m\u001b[0m\n",
      "\u001b[1;32m<ipython-input-309-ad6581132f88>\u001b[0m in \u001b[0;36mlimirick_machine\u001b[1;34m()\u001b[0m\n\u001b[0;32m     28\u001b[0m     \u001b[0mlist_of_lines\u001b[0m \u001b[1;33m=\u001b[0m \u001b[1;33m[\u001b[0m\u001b[1;33m]\u001b[0m\u001b[1;33m\u001b[0m\u001b[1;33m\u001b[0m\u001b[0m\n\u001b[0;32m     29\u001b[0m     \u001b[0mline1\u001b[0m \u001b[1;33m=\u001b[0m \u001b[0minitial_line_finder\u001b[0m\u001b[1;33m(\u001b[0m\u001b[0mlist_of_lines\u001b[0m\u001b[1;33m)\u001b[0m\u001b[1;33m\u001b[0m\u001b[1;33m\u001b[0m\u001b[0m\n\u001b[1;32m---> 30\u001b[1;33m     \u001b[0mlist_of_lines\u001b[0m\u001b[1;33m.\u001b[0m\u001b[0mappend\u001b[0m\u001b[1;33m(\u001b[0m\u001b[0mline2\u001b[0m\u001b[1;33m)\u001b[0m\u001b[1;33m\u001b[0m\u001b[1;33m\u001b[0m\u001b[0m\n\u001b[0m\u001b[0;32m     31\u001b[0m \u001b[1;33m\u001b[0m\u001b[0m\n\u001b[0;32m     32\u001b[0m     \u001b[1;31m##########\u001b[0m\u001b[1;33m\u001b[0m\u001b[1;33m\u001b[0m\u001b[1;33m\u001b[0m\u001b[0m\n",
      "\u001b[1;31mUnboundLocalError\u001b[0m: local variable 'line2' referenced before assignment"
     ]
    }
   ],
   "source": [
    "line1, line2, line3, line4, line5 = limirick_machine()\n",
    "print(line1)\n",
    "print(line2)\n",
    "print(line3)\n",
    "print(line4)\n",
    "print(line5)"
   ]
  },
  {
   "cell_type": "code",
   "execution_count": 400,
   "id": "permanent-groove",
   "metadata": {},
   "outputs": [],
   "source": [
    "def limirick_machine():\n",
    "    \n",
    "    def initial_line_finder(list_of_existing):\n",
    "        rand_choice = random.choice(all_lines)['s']\n",
    "        if rand_choice not in list_of_existing:\n",
    "            line = rand_choice\n",
    "        while line.split(' ')[-1].isalpha() == False:\n",
    "            rand_choice = random.choice(all_lines)['s']\n",
    "            if rand_choice not in list_of_existing:\n",
    "                line = rand_choice\n",
    "        \n",
    "        word_to_rhyme = line.split(' ')[-1]\n",
    "        phones = pronouncing.phones_for_word(word_to_rhyme)\n",
    "        phones = phones[0]\n",
    "        rhyming_phones = pronouncing.rhyming_part(phones)\n",
    "        return line, rhyming_phones\n",
    "    \n",
    "    \n",
    "    def secondary_line_finder(list_of_existing, phones_to_rhyme):   \n",
    "        key = random.choice(list(by_rhyming_part[phones_to_rhyme].keys()))    \n",
    "        rand_choice = random.choice(list(by_rhyming_part[phones_to_rhyme][key]))       \n",
    "        while rand_choice in list_of_existing:\n",
    "            key = random.choice(list(by_rhyming_part[phones_to_rhyme].keys()))    \n",
    "            rand_choice = random.choice(list(by_rhyming_part[phones_to_rhyme][key]))       \n",
    "        return rand_choice\n",
    "            \n",
    "\n",
    "    list_of_lines = []\n",
    "    line1, line1_phones = initial_line_finder(list_of_lines)\n",
    "    list_of_lines.append(line1)\n",
    "    \n",
    "    ##########\n",
    "    #Setting up line2, and the function to accomodate initiating and follow up.\n",
    "    ###\n",
    "    \n",
    "    line2 = secondary_line_finder(list_of_lines, line1_phones)\n",
    "    list_of_lines.append(line2)\n",
    "    \n",
    "    line3, line3_phones = initial_line_finder(list_of_lines)\n",
    "    list_of_lines.append(line3)\n",
    "    \n",
    "    line4 = secondary_line_finder(list_of_lines, line3_phones)\n",
    "    list_of_lines.append(line4)\n",
    "    \n",
    "    line5 = secondary_line_finder(list_of_lines, line1_phones)\n",
    "\n",
    "    return line1, line2, line3, line4, line5\n",
    "\n",
    "    \n",
    "    "
   ]
  },
  {
   "cell_type": "code",
   "execution_count": 401,
   "id": "devoted-mixer",
   "metadata": {},
   "outputs": [],
   "source": [
    "from textblob import TextBlob"
   ]
  },
  {
   "cell_type": "code",
   "execution_count": 415,
   "id": "sapphire-audit",
   "metadata": {
    "scrolled": false
   },
   "outputs": [
    {
     "name": "stdout",
     "output_type": "stream",
     "text": [
      "And I am strong to drink the cup that drains\n",
      "Urania, my celestial guest! who deigns\n",
      "To warm the dead, and vainly light\n",
      "Embraced is, and fully gan despite\n",
      "By ASTRACAN over the Snowie Plaines\n"
     ]
    }
   ],
   "source": [
    "line1, line2, line3, line4, line5 = limirick_machine()\n",
    "print(line1)\n",
    "print(line2)\n",
    "print(line3)\n",
    "print(line4)\n",
    "print(line5)"
   ]
  },
  {
   "cell_type": "code",
   "execution_count": 386,
   "id": "faced-warrant",
   "metadata": {
    "scrolled": true
   },
   "outputs": [
    {
     "name": "stdout",
     "output_type": "stream",
     "text": [
      "<class 'list'>\n",
      "['G EY1 T']\n",
      "['Beyond the temple gate']\n",
      "EY1 T\n",
      "dict_keys(['late', 'state', 'mate', 'fate', 'wait', 'great', 'hate', 'gate', 'waite', 'relate', 'debate', 'sate', 'create', 'date', 'grate', 'gait', 'weight', 'straight', 'await', 'innate', 'translate', 'plait', 'estate', 'eight', 'trait', 'strait', 'pate', 'ate', 'plate', 'kate', 'slate', 'dictate', 'freight', 'dilate', 'bait', 'rate', 'abate', 'elate', 'tate', 'bate', 'fete', 'reinstate', 'sedate', 'wayt', 'streight', 'inflate', 'spate', 'desecrate', 'ornate'])\n",
      "<class 'list'>\n",
      "['W EY1 JH']\n",
      "['Beyond the temple gate', 'To grapple with the mysteries I late', 'Leave we the Trojans and the Greeks to wage']\n",
      "EY1 JH\n",
      "dict_keys(['rage', 'age', 'engage', 'page', 'disengage', 'stage', 'assuage', 'wage', 'cage', 'gauge', 'sage', 'gage'])\n",
      "['Beyond the temple gate', 'To grapple with the mysteries I late', 'Leave we the Trojans and the Greeks to wage', 'Meanwhile the Soldan strove his rage']\n",
      "EY1 T\n",
      "dict_keys(['late', 'state', 'mate', 'fate', 'wait', 'great', 'hate', 'gate', 'waite', 'relate', 'debate', 'sate', 'create', 'date', 'grate', 'gait', 'weight', 'straight', 'await', 'innate', 'translate', 'plait', 'estate', 'eight', 'trait', 'strait', 'pate', 'ate', 'plate', 'kate', 'slate', 'dictate', 'freight', 'dilate', 'bait', 'rate', 'abate', 'elate', 'tate', 'bate', 'fete', 'reinstate', 'sedate', 'wayt', 'streight', 'inflate', 'spate', 'desecrate', 'ornate'])\n",
      "<class 'list'>\n",
      "['HH AE1 R OW0']\n",
      "['Still, though your wickedness must harrow']\n",
      "AE1 R OW0\n",
      "dict_keys(['arrow', 'harrow'])\n",
      "<class 'list'>\n",
      "['M AE1 S T ER0']\n",
      "['Still, though your wickedness must harrow', 'Called them forth with bow and arrow', 'Blubbering, to his aged master']\n",
      "AE1 S T ER0\n",
      "dict_keys(['faster', 'master', 'pastor', 'disaster', 'plaster'])\n",
      "['Still, though your wickedness must harrow', 'Called them forth with bow and arrow', 'Blubbering, to his aged master', 'Is of yourself.  Tell me, who is the master']\n",
      "AE1 R OW0\n",
      "dict_keys(['arrow', 'harrow'])\n",
      "<class 'list'>\n",
      "['S IH1 K']\n",
      "['\"Now mark! I, being fever\\'d, sick']\n",
      "IH1 K\n",
      "dict_keys(['thick', 'quick', 'pick', 'sick', 'brick', 'chick', 'kick', 'rick', 'prick', 'tick', 'trick', 'flick', 'stick', 'nick', 'click', 'mick', 'lick', 'slick'])\n",
      "<class 'list'>\n",
      "['W AY1 N D', 'W IH1 N D']\n",
      "['\"Now mark! I, being fever\\'d, sick', 'Fast by the throat he struck him; anguish-sick', \"New and new and new and new, the white o' the cliffs and the wind\"]\n",
      "AY1 N D\n",
      "dict_keys(['wind', 'rind', 'find', 'mind', 'mankind', 'behind', 'kind', 'combined', 'bind', 'pined', 'designed', 'confined', 'grind', 'refined', 'resigned', 'inclined', 'enshrined', 'hind', 'twined', 'blind', 'lined', 'defined', 'assigned', 'declined', 'entwined', 'consigned', 'reclined', 'undermined', 'dined', 'unkind', 'affined', 'unconfined', 'disinclined', 'shined', 'remind', 'signed', 'undefined', 'unwind', 'fined', 'intertwined'])\n",
      "['\"Now mark! I, being fever\\'d, sick', 'Fast by the throat he struck him; anguish-sick', \"New and new and new and new, the white o' the cliffs and the wind\", 'Seldom he argued, and never he fined']\n",
      "IH1 K\n",
      "dict_keys(['thick', 'quick', 'pick', 'sick', 'brick', 'chick', 'kick', 'rick', 'prick', 'tick', 'trick', 'flick', 'stick', 'nick', 'click', 'mick', 'lick', 'slick'])\n",
      "<class 'list'>\n",
      "['TH R AO1 NG']\n",
      "['Do but, in _her_, enrich the heart, and throng']\n",
      "AO1 NG\n",
      "dict_keys(['along', 'long', 'song', 'throng', 'strong', 'belong', 'prolong', 'wrong', 'thong', 'sprong', 'hong', 'prong', 'dong', 'gong', 'rong', 'lifelong', 'mong'])\n",
      "<class 'list'>\n",
      "['M EY1']\n",
      "['Do but, in _her_, enrich the heart, and throng', 'And, scourged in circling courses by the thong', 'as the dark haunts of terrific agents, on which none may']\n",
      "EY1\n",
      "dict_keys(['dismay', 'array', 'they', 'way', 'lay', 'prey', 're', 'may', 'bay', 'obey', 'fray', 'sway', 'pay', 'day', 'ray', 'delay', 'gray', 'stay', 'play', 'gay', 'survey', 'allay', 'clay', 'say', 'slay', 'away', 'spray', 'display', 'convey', 'stray', 'astray', 'essay', 'ay', 'pray', 'hay', 'grey', 'se', 'weigh', 'decay', 'brae', 'dey', 'blay', 'kay', 'today', 'nay', 'disarray', 'fay', 'purvey', 'bray', 'repay', 'ley', 'yea', 'betray', 'passe', 'neigh', 'tre', 'bey', 'bouquet', 'portray', 'jay', 'everyday', 'disobey', 'j.', 'soiree', 'a.', 'shay', 'hey', 'tay', 'croquet', 'mae', 'k.', 'whey', 'flay', 'wey', 'tray', 'dae', 'sleigh', 'defray', 'maye', 'liberte', 'laye', 'saye', 'ney', 'cathay', 'valet', 'k', 'parquet', 'mckay', 'mei', 'manet', 'rea', 'cafe'])\n",
      "['Do but, in _her_, enrich the heart, and throng', 'And, scourged in circling courses by the thong', 'as the dark haunts of terrific agents, on which none may', 'Dey ashk him \"Coom und dake a trink\" - boot dey']\n",
      "AO1 NG\n",
      "dict_keys(['along', 'long', 'song', 'throng', 'strong', 'belong', 'prolong', 'wrong', 'thong', 'sprong', 'hong', 'prong', 'dong', 'gong', 'rong', 'lifelong', 'mong'])\n",
      "<class 'list'>\n",
      "['N EY1 V IY0']\n",
      "['The crudest captain of the Turkish navy']\n",
      "EY1 V IY0\n",
      "dict_keys(['wavy', 'gravy', 'navy'])\n",
      "<class 'list'>\n",
      "['F L EH1 D']\n",
      "['The crudest captain of the Turkish navy', 'How the river flowed green and wavy', 'Death hushed that pang for ever: with thee fled']\n",
      "EH1 D\n",
      "dict_keys(['fed', 'spread', 'led', 'dread', 'fled', 'head', 'tread', 'dead', 'stead', 'said', 'shed', 'lead', 'instead', 'bred', 'thread', 'read', 'ahead', 'red', 'bed', 'misled', 'bread', 'overhead', 'sped', 'unsaid', 'bled', 'wed', 'ted', 'shred', 'ed', 'unwed', 'abed', 'fred', 'redd', 'shedd', 'dredd', 'unted', 'sled', 'reade', 'ned', 'dred'])\n",
      "['The crudest captain of the Turkish navy', 'How the river flowed green and wavy', 'Death hushed that pang for ever: with thee fled', \"But could nae speed wi' her I lo'ed\"]\n",
      "EY1 V IY0\n",
      "dict_keys(['wavy', 'gravy', 'navy'])\n",
      "<class 'list'>\n",
      "['B IY1', 'B IY0']\n",
      "['To soothe my woe; and though I be']\n",
      "IY1\n",
      "dict_keys(['me', 'tree', 'd', 'be', 'see', 'd.', 'hee', 't', 'we', 'disagree', 'key', 'free', 'mee', 'decree', 'thee', 't.', 'spie', 'bee', 'knee', 'degree', 'sea', 'wee', 'he', 'she', 'glee', 'ye', 'flee', 'three', 'tea', 'guarantee', 'e.', 'b.', 'quay', 'fee', 've', 'c.', 'foresee', 'debris', 'lee', 'de', 'mit', 'dee', 'lea', 'agree', 'flea', 'plea', 'oversea', 'esprit', 'marquis', 'v.', 'merci', 'bree', 'p.', 'fie', 'g.', 'zee', 'dea', 'c', 'qui', 'pea', 'v', 'cree', 'sie', 'e', 'xi', 'dundee', 'tee', 'ne', 'banshee', 'b', 'devotee', 'ac', 'te', 'nie', 'g', 'z.', 'leigh', 'ee', 'si', 'mea', 'vp', 'z', 'li'])\n",
      "<class 'list'>\n",
      "['AH1 V']\n",
      "['To soothe my woe; and though I be', \"Weren't fit to teach Truth's a. b. c.\", 'v. 38.  That eagle.]  He prognosticates that the Emperor of']\n",
      "AH1 V\n",
      "dict_keys(['love', 'above', 'dove', 'of', 'thereof', 'glove', 'shove'])\n",
      "['To soothe my woe; and though I be', \"Weren't fit to teach Truth's a. b. c.\", 'v. 38.  That eagle.]  He prognosticates that the Emperor of', \"'Gainst reason--Reason ne'er was hand-and-glove\"]\n",
      "IY1\n",
      "dict_keys(['me', 'tree', 'd', 'be', 'see', 'd.', 'hee', 't', 'we', 'disagree', 'key', 'free', 'mee', 'decree', 'thee', 't.', 'spie', 'bee', 'knee', 'degree', 'sea', 'wee', 'he', 'she', 'glee', 'ye', 'flee', 'three', 'tea', 'guarantee', 'e.', 'b.', 'quay', 'fee', 've', 'c.', 'foresee', 'debris', 'lee', 'de', 'mit', 'dee', 'lea', 'agree', 'flea', 'plea', 'oversea', 'esprit', 'marquis', 'v.', 'merci', 'bree', 'p.', 'fie', 'g.', 'zee', 'dea', 'c', 'qui', 'pea', 'v', 'cree', 'sie', 'e', 'xi', 'dundee', 'tee', 'ne', 'banshee', 'b', 'devotee', 'ac', 'te', 'nie', 'g', 'z.', 'leigh', 'ee', 'si', 'mea', 'vp', 'z', 'li'])\n",
      "<class 'list'>\n",
      "['F L AY1']\n",
      "['Than when the German raiders fly']\n",
      "AY1\n",
      "dict_keys(['lye', 'high', 'eye', 'cry', 'i', 'supply', 'die', 'awry', 'fly', 'sly', 'nigh', 'trie', 'try', 'ply', 'why', 'dry', 'thereby', 'lie', 'spy', 'sky', 'pry', 'descry', 'by', 'shy', 'deny', 'rely', 'vie', 'whereby', 'aye', 'i.', 'buy', 'wrye', 'dye', 'sigh', 'mai', 'dai', 'bye', 'my', 'defy', 'apply', 'tie', 'thigh', 'reply', 'sty', 'comply', 'untie', 'goodbye', 'imply', 'tye', 'hereby', 'frie', 'y', 'ty', 'belie', 'fry', 'skye', 'pie', 'versailles', 'july', 'thy', 'ly', 'slye', 'underlie', 'spry', 'pye', 'crye', 'flye', 'y.', 'rye', 'decry', 'wai', 'ai', 'thai', 'wry', 'vi', 'ui', 'guy'])\n",
      "<class 'list'>\n",
      "['F AW1 N D']\n",
      "['Than when the German raiders fly', '\" `Does not Argaeus deem enough to sty', 'Your wary steps:--but wandering on, you found']\n",
      "AW1 N D\n",
      "dict_keys(['round', 'sound', 'wound', 'ground', 'confound', 'profound', 'found', 'redound', 'unbound', 'bound', 'resound', 'renowned', 'crowned', 'drowned', 'propound', 'hound', 'mound', 'around', 'surround', 'downed', 'unsound', 'abound', 'astound', 'expound', 'frowned', 'rebound', 'pound', 'browned', 'unwound', 'aground'])\n",
      "['Than when the German raiders fly', '\" `Does not Argaeus deem enough to sty', 'Your wary steps:--but wandering on, you found', 'As when a wild boar turns upon the hound']\n",
      "AY1\n",
      "dict_keys(['lye', 'high', 'eye', 'cry', 'i', 'supply', 'die', 'awry', 'fly', 'sly', 'nigh', 'trie', 'try', 'ply', 'why', 'dry', 'thereby', 'lie', 'spy', 'sky', 'pry', 'descry', 'by', 'shy', 'deny', 'rely', 'vie', 'whereby', 'aye', 'i.', 'buy', 'wrye', 'dye', 'sigh', 'mai', 'dai', 'bye', 'my', 'defy', 'apply', 'tie', 'thigh', 'reply', 'sty', 'comply', 'untie', 'goodbye', 'imply', 'tye', 'hereby', 'frie', 'y', 'ty', 'belie', 'fry', 'skye', 'pie', 'versailles', 'july', 'thy', 'ly', 'slye', 'underlie', 'spry', 'pye', 'crye', 'flye', 'y.', 'rye', 'decry', 'wai', 'ai', 'thai', 'wry', 'vi', 'ui', 'guy'])\n",
      "<class 'list'>\n",
      "['K AO1 R T']\n",
      "['An open window giving on the court']\n",
      "AO1 R T\n",
      "dict_keys(['sort', 'consort', 'support', 'short', 'port', 'fort', 'exhort', 'court', 'report', 'resort', 'distort', 'snort', 'athwart', 'import', 'thwart', 'sport', 'extort', 'quart', 'swart', 'transport', 'dort', 'torte', 'porte', 'escort', 'assort', 'foret', 'tort', 'ort'])\n",
      "<class 'list'>\n",
      "['M EY1 D Z']\n",
      "['An open window giving on the court', \"By turns the South consign'd her to be sport\", 'A hubbub in the court of half the maids']\n",
      "EY1 D Z\n",
      "dict_keys(['shades', 'fades', 'maids', 'glades', 'blades', 'trades', 'blockades', 'arcades', 'promenades', 'cascades', 'degrades', 'invades', 'palisades', 'wades', 'aids', 'evades', 'grades', 'parades', 'jades', 'crusades', 'pervades', 'persuades', 'braids'])\n",
      "['An open window giving on the court', \"By turns the South consign'd her to be sport\", 'A hubbub in the court of half the maids', 'Yea, back to days of those Crusades']\n",
      "AO1 R T\n",
      "dict_keys(['sort', 'consort', 'support', 'short', 'port', 'fort', 'exhort', 'court', 'report', 'resort', 'distort', 'snort', 'athwart', 'import', 'thwart', 'sport', 'extort', 'quart', 'swart', 'transport', 'dort', 'torte', 'porte', 'escort', 'assort', 'foret', 'tort', 'ort'])\n",
      "<class 'list'>\n",
      "['B AE1 K']\n",
      "['He saw wheels break and work run back']\n",
      "AE1 K\n",
      "dict_keys(['attack', 'back', 'track', 'rack', 'pack', 'lack', 'lak', 'crack', 'black', 'wrack', 'clack', 'slack', 'smack', 'whack', 'sack', 'aback', 'jack', 'balzac', 'hack', 'sac', 'tack', 'knack', 'backe', 'stack', 'mak', 'quack'])\n",
      "<class 'list'>\n",
      "['IY1 V AH0 L']\n",
      "['He saw wheels break and work run back', 'The far white constellations. For the lack', \"'Lo now, how the gods have delivered this man from his evil\"]\n",
      "IY1 V AH0 L\n",
      "dict_keys(['evil', 'primeval'])\n",
      "['He saw wheels break and work run back', 'The far white constellations. For the lack', \"'Lo now, how the gods have delivered this man from his evil\", 'Alas!  I now remember all the evil']\n",
      "AE1 K\n",
      "dict_keys(['attack', 'back', 'track', 'rack', 'pack', 'lack', 'lak', 'crack', 'black', 'wrack', 'clack', 'slack', 'smack', 'whack', 'sack', 'aback', 'jack', 'balzac', 'hack', 'sac', 'tack', 'knack', 'backe', 'stack', 'mak', 'quack'])\n",
      "<class 'list'>\n",
      "['D EH1 D']\n",
      "['And numbered with the dead']\n",
      "EH1 D\n",
      "dict_keys(['fed', 'spread', 'led', 'dread', 'fled', 'head', 'tread', 'dead', 'stead', 'said', 'shed', 'lead', 'instead', 'bred', 'thread', 'read', 'ahead', 'red', 'bed', 'misled', 'bread', 'overhead', 'sped', 'unsaid', 'bled', 'wed', 'ted', 'shred', 'ed', 'unwed', 'abed', 'fred', 'redd', 'shedd', 'dredd', 'unted', 'sled', 'reade', 'ned', 'dred'])\n",
      "<class 'list'>\n",
      "['JH IH1 NG G AH0 L']\n",
      "['And numbered with the dead', 'and who so but begins the same to reade', 'And the little pink and white bells shake and jingle']\n",
      "IH1 NG G AH0 L\n",
      "dict_keys(['tingle', 'mingle', 'dingle', 'shingle', 'jingle', 'single'])\n",
      "['And numbered with the dead', 'and who so but begins the same to reade', 'And the little pink and white bells shake and jingle', 'Who has led me a dance by dell and dingle']\n",
      "EH1 D\n",
      "dict_keys(['fed', 'spread', 'led', 'dread', 'fled', 'head', 'tread', 'dead', 'stead', 'said', 'shed', 'lead', 'instead', 'bred', 'thread', 'read', 'ahead', 'red', 'bed', 'misled', 'bread', 'overhead', 'sped', 'unsaid', 'bled', 'wed', 'ted', 'shred', 'ed', 'unwed', 'abed', 'fred', 'redd', 'shedd', 'dredd', 'unted', 'sled', 'reade', 'ned', 'dred'])\n"
     ]
    }
   ],
   "source": [
    "import pandas as pd\n",
    "temp_limirick_dict= {'line1':[],'line2':[],'line3':[],'line4':[],'line5':[],}\n",
    "for i in range(10):\n",
    "    line1, line2, line3, line4, line5 = limirick_machine()\n",
    "    temp_limirick_dict['line1'].append(line1)\n",
    "    temp_limirick_dict['line2'].append(line2)\n",
    "    temp_limirick_dict['line3'].append(line3)\n",
    "    temp_limirick_dict['line4'].append(line4)\n",
    "    temp_limirick_dict['line5'].append(line5)\n",
    "basic_limirick_df = pd.DataFrame(temp_limirick_dict)\n",
    "\n",
    "\n",
    "    \n",
    "    "
   ]
  },
  {
   "cell_type": "code",
   "execution_count": 387,
   "id": "fossil-probe",
   "metadata": {},
   "outputs": [
    {
     "name": "stdout",
     "output_type": "stream",
     "text": [
      "(10, 5)\n",
      "                                       line1  \\\n",
      "1  Still, though your wickedness must harrow   \n",
      "\n",
      "                                  line2                           line3  \\\n",
      "1  Called them forth with bow and arrow  Blubbering, to his aged master   \n",
      "\n",
      "                                         line4  \\\n",
      "1  Is of yourself.  Tell me, who is the master   \n",
      "\n",
      "                                      line5  \n",
      "1  No point in Heaven's Azure but his Arrow  \n"
     ]
    }
   ],
   "source": [
    "print(basic_limirick_df.shape)\n",
    "print(basic_limirick_df.sample(1))"
   ]
  },
  {
   "cell_type": "code",
   "execution_count": 419,
   "id": "worst-burst",
   "metadata": {},
   "outputs": [
    {
     "data": {
      "text/plain": [
       "'Beyond the temple gate'"
      ]
     },
     "execution_count": 419,
     "metadata": {},
     "output_type": "execute_result"
    }
   ],
   "source": [
    "test_value = basic_limirick_df['line1'].iloc[0]\n",
    "test_value"
   ]
  },
  {
   "cell_type": "code",
   "execution_count": 421,
   "id": "heard-cleaning",
   "metadata": {},
   "outputs": [
    {
     "data": {
      "text/plain": [
       "textblob.en.sentiments.Sentiment"
      ]
     },
     "execution_count": 421,
     "metadata": {},
     "output_type": "execute_result"
    }
   ],
   "source": [
    "type(TextBlob(test_value).sentiment)"
   ]
  },
  {
   "cell_type": "code",
   "execution_count": 388,
   "id": "viral-blackberry",
   "metadata": {},
   "outputs": [
    {
     "ename": "ValueError",
     "evalue": "too many values to unpack (expected 2)",
     "output_type": "error",
     "traceback": [
      "\u001b[1;31m---------------------------------------------------------------------------\u001b[0m",
      "\u001b[1;31mValueError\u001b[0m                                Traceback (most recent call last)",
      "\u001b[1;32m<ipython-input-388-82b17c4c3ba6>\u001b[0m in \u001b[0;36m<module>\u001b[1;34m\u001b[0m\n\u001b[0;32m      2\u001b[0m     \u001b[1;32mreturn\u001b[0m \u001b[0mTextBlob\u001b[0m\u001b[1;33m(\u001b[0m\u001b[0mline\u001b[0m\u001b[1;33m)\u001b[0m\u001b[1;33m.\u001b[0m\u001b[0msentiment\u001b[0m\u001b[1;33m\u001b[0m\u001b[1;33m\u001b[0m\u001b[0m\n\u001b[0;32m      3\u001b[0m \u001b[1;32mfor\u001b[0m \u001b[0mcolumn\u001b[0m \u001b[1;32min\u001b[0m \u001b[0mbasic_limirick_df\u001b[0m\u001b[1;33m:\u001b[0m\u001b[1;33m\u001b[0m\u001b[1;33m\u001b[0m\u001b[0m\n\u001b[1;32m----> 4\u001b[1;33m     \u001b[0mbasic_limirick_df\u001b[0m\u001b[1;33m[\u001b[0m\u001b[0mcolumn\u001b[0m \u001b[1;33m+\u001b[0m \u001b[1;34m'_sentiment'\u001b[0m\u001b[1;33m]\u001b[0m\u001b[1;33m,\u001b[0m \u001b[0mbasic_limirick_df\u001b[0m\u001b[1;33m[\u001b[0m\u001b[0mcolumn\u001b[0m \u001b[1;33m+\u001b[0m \u001b[1;34m'_polarity'\u001b[0m\u001b[1;33m]\u001b[0m \u001b[1;33m=\u001b[0m \u001b[0mbasic_limirick_df\u001b[0m\u001b[1;33m[\u001b[0m\u001b[0mcolumn\u001b[0m\u001b[1;33m]\u001b[0m\u001b[1;33m.\u001b[0m\u001b[0mapply\u001b[0m\u001b[1;33m(\u001b[0m\u001b[0msentimenter\u001b[0m\u001b[1;33m)\u001b[0m\u001b[1;33m\u001b[0m\u001b[1;33m\u001b[0m\u001b[0m\n\u001b[0m\u001b[0;32m      5\u001b[0m     \u001b[0mprint\u001b[0m\u001b[1;33m(\u001b[0m\u001b[0mcolumn\u001b[0m\u001b[1;33m)\u001b[0m\u001b[1;33m\u001b[0m\u001b[1;33m\u001b[0m\u001b[0m\n",
      "\u001b[1;31mValueError\u001b[0m: too many values to unpack (expected 2)"
     ]
    }
   ],
   "source": [
    "def sentimenter(line):\n",
    "    return TextBlob(line).sentiment\n",
    "for column in basic_limirick_df:\n",
    "    basic_limirick_df[column + '_sentiment'], basic_limirick_df[column + '_polarity'] = basic_limirick_df[column].apply(sentimenter)\n",
    "    print(column)"
   ]
  },
  {
   "cell_type": "code",
   "execution_count": null,
   "id": "surprised-commonwealth",
   "metadata": {},
   "outputs": [],
   "source": [
    "#make a wordcloud, preferably for the phones rhymegroup\n",
    "import nltk\n",
    "from nltk.corpus import stopwords\n",
    "from wordcloud import WordCloud, STOPWORDS\n",
    "# Create stopword list:\n",
    "stopwords = set(STOPWORDS)\n",
    "stopwords.update([\"br\", \"href\"])\n",
    "textt = \" \".join(review for review in df.Text)\n",
    "wordcloud = WordCloud(stopwords=stopwords).generate(textt)\n",
    "plt.imshow(wordcloud, interpolation='bilinear')\n",
    "plt.axis(\"off\")\n",
    "plt.savefig('wordcloud11.png')\n",
    "plt.show()"
   ]
  },
  {
   "cell_type": "code",
   "execution_count": null,
   "id": "informal-movement",
   "metadata": {},
   "outputs": [],
   "source": []
  },
  {
   "cell_type": "code",
   "execution_count": null,
   "id": "cellular-white",
   "metadata": {},
   "outputs": [],
   "source": []
  },
  {
   "cell_type": "code",
   "execution_count": null,
   "id": "analyzed-covering",
   "metadata": {},
   "outputs": [],
   "source": []
  }
 ],
 "metadata": {
  "kernelspec": {
   "display_name": "Python 3",
   "language": "python",
   "name": "python3"
  },
  "language_info": {
   "codemirror_mode": {
    "name": "ipython",
    "version": 3
   },
   "file_extension": ".py",
   "mimetype": "text/x-python",
   "name": "python",
   "nbconvert_exporter": "python",
   "pygments_lexer": "ipython3",
   "version": "3.9.1"
  }
 },
 "nbformat": 4,
 "nbformat_minor": 5
}
