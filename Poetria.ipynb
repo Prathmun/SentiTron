{
 "cells": [
  {
   "cell_type": "code",
   "execution_count": 28,
   "id": "leading-anxiety",
   "metadata": {},
   "outputs": [],
   "source": [
    "import gzip, json\n",
    "import random\n",
    "import re\n",
    "import pronouncing\n",
    "import matplotlib.pyplot as plt"
   ]
  },
  {
   "cell_type": "code",
   "execution_count": 2,
   "id": "centered-comparison",
   "metadata": {},
   "outputs": [],
   "source": [
    "all_lines =[]\n",
    "for line in gzip.open(\"gutenberg-poetry-v001.ndjson.gz\"):\n",
    "    all_lines.append(json.loads(line.strip()))"
   ]
  },
  {
   "cell_type": "code",
   "execution_count": 3,
   "id": "dangerous-package",
   "metadata": {},
   "outputs": [],
   "source": [
    "#The following cell builds the data structure proposed above: a dictionary that maps rhyming parts \n",
    "#to a dictionary that maps words with that rhyming part to the lines of poetry that they're found at the end of.\n",
    "from collections import defaultdict\n",
    "by_rhyming_part = defaultdict(lambda: defaultdict(list))\n",
    "for line in all_lines:\n",
    "    text = line['s']\n",
    "    if not(32 < len(text) < 48): # only use lines of uniform lengths\n",
    "        continue\n",
    "    match = re.search(r'(\\b\\w+\\b)\\W*$', text)\n",
    "    if match:\n",
    "        last_word = match.group()\n",
    "        pronunciations = pronouncing.phones_for_word(last_word)\n",
    "        if len(pronunciations) > 0:\n",
    "               rhyming_part = pronouncing.rhyming_part(pronunciations[0])\n",
    "               # group by rhyming phones (for rhymes) and words (to avoid duplicate words)\n",
    "               by_rhyming_part[rhyming_part][last_word.lower()].append(text)\n",
    "               \n",
    "               "
   ]
  },
  {
   "cell_type": "markdown",
   "id": "conscious-puzzle",
   "metadata": {},
   "source": [
    "### Certain words aren't being caught by my pronunciation checker. Is it 'cause they're old english or something?"
   ]
  },
  {
   "cell_type": "code",
   "execution_count": 234,
   "id": "english-heading",
   "metadata": {
    "scrolled": true
   },
   "outputs": [
    {
     "name": "stdout",
     "output_type": "stream",
     "text": [
      "True\n"
     ]
    },
    {
     "ename": "IndexError",
     "evalue": "list index out of range",
     "output_type": "error",
     "traceback": [
      "\u001b[1;31m---------------------------------------------------------------------------\u001b[0m",
      "\u001b[1;31mIndexError\u001b[0m                                Traceback (most recent call last)",
      "\u001b[1;32m<ipython-input-234-766f4acfe37a>\u001b[0m in \u001b[0;36m<module>\u001b[1;34m\u001b[0m\n\u001b[0;32m      1\u001b[0m \u001b[0msource_word\u001b[0m \u001b[1;33m=\u001b[0m \u001b[1;34m'knelling'\u001b[0m\u001b[1;33m\u001b[0m\u001b[1;33m\u001b[0m\u001b[0m\n\u001b[0;32m      2\u001b[0m \u001b[0mprint\u001b[0m\u001b[1;33m(\u001b[0m\u001b[0msource_word\u001b[0m\u001b[1;33m.\u001b[0m\u001b[0misalpha\u001b[0m\u001b[1;33m(\u001b[0m\u001b[1;33m)\u001b[0m\u001b[1;33m)\u001b[0m\u001b[1;33m\u001b[0m\u001b[1;33m\u001b[0m\u001b[0m\n\u001b[1;32m----> 3\u001b[1;33m \u001b[0mphones\u001b[0m \u001b[1;33m=\u001b[0m \u001b[0mpronouncing\u001b[0m\u001b[1;33m.\u001b[0m\u001b[0mphones_for_word\u001b[0m\u001b[1;33m(\u001b[0m\u001b[0msource_word\u001b[0m\u001b[1;33m)\u001b[0m\u001b[1;33m[\u001b[0m\u001b[1;36m0\u001b[0m\u001b[1;33m]\u001b[0m \u001b[1;31m#\u001b[0m\u001b[1;33m\u001b[0m\u001b[1;33m\u001b[0m\u001b[0m\n\u001b[0m\u001b[0;32m      4\u001b[0m \u001b[0mprint\u001b[0m\u001b[1;33m(\u001b[0m\u001b[0mphones\u001b[0m\u001b[1;33m)\u001b[0m\u001b[1;33m\u001b[0m\u001b[1;33m\u001b[0m\u001b[0m\n\u001b[0;32m      5\u001b[0m \u001b[0mrhyming_part\u001b[0m \u001b[1;33m=\u001b[0m \u001b[0mpronouncing\u001b[0m\u001b[1;33m.\u001b[0m\u001b[0mrhyming_part\u001b[0m\u001b[1;33m(\u001b[0m\u001b[0mphones\u001b[0m\u001b[1;33m)\u001b[0m\u001b[1;33m\u001b[0m\u001b[1;33m\u001b[0m\u001b[0m\n",
      "\u001b[1;31mIndexError\u001b[0m: list index out of range"
     ]
    }
   ],
   "source": [
    "source_word = 'knelling'\n",
    "print(source_word.isalpha())\n",
    "phones = pronouncing.phones_for_word(source_word)[0] #\n",
    "print(phones)\n",
    "rhyming_part = pronouncing.rhyming_part(phones)"
   ]
  },
  {
   "cell_type": "markdown",
   "id": "verbal-intake",
   "metadata": {},
   "source": [
    "These words make my prounouncing library dry heave"
   ]
  },
  {
   "cell_type": "code",
   "execution_count": 235,
   "id": "returning-exhaust",
   "metadata": {},
   "outputs": [],
   "source": [
    "bad_words =[]\n",
    "for line in all_lines:\n",
    "    text = line['s']\n",
    "    try:\n",
    "        pronouncing.phones_for_word(source_word)[0]\n",
    "    except IndexError:\n",
    "        bad_words.append(text.split(' ')[-1])\n",
    "    "
   ]
  },
  {
   "cell_type": "code",
   "execution_count": 237,
   "id": "united-torture",
   "metadata": {
    "scrolled": true
   },
   "outputs": [
    {
     "data": {
      "text/plain": [
       "3085117"
      ]
     },
     "execution_count": 237,
     "metadata": {},
     "output_type": "execute_result"
    }
   ],
   "source": [
    "len(bad_words)"
   ]
  },
  {
   "cell_type": "code",
   "execution_count": 246,
   "id": "overall-indonesia",
   "metadata": {},
   "outputs": [
    {
     "data": {
      "text/plain": [
       "1287796    thresh'd,\n",
       "272277       reputed\n",
       "929407         cold,\n",
       "2024055       twain.\n",
       "586229       strike,\n",
       "dtype: object"
      ]
     },
     "execution_count": 246,
     "metadata": {},
     "output_type": "execute_result"
    }
   ],
   "source": [
    "bad_words = pd.Series(bad_words)\n",
    "bad_words.sample(5)"
   ]
  },
  {
   "cell_type": "markdown",
   "id": "radical-rehabilitation",
   "metadata": {},
   "source": [
    "That's a huge number of bad words. A lot of them have punctuation at the end. I suspect a lot of those are salvagable."
   ]
  },
  {
   "cell_type": "code",
   "execution_count": 334,
   "id": "permanent-groove",
   "metadata": {},
   "outputs": [],
   "source": [
    "#This whole thing doesn't work super reliably. Some of it has to do with the pronunciation library missing words in my corpus,\n",
    "#some of it has to do with punctuation. Working on it, but it's not super high priority.\n",
    "def limirick_machine():\n",
    "    #Finds you lines that don't need to rhyme\n",
    "    def initial_line_finder(list_of_existing):\n",
    "        rand_choice = random.choice(all_lines)['s']\n",
    "        if rand_choice not in list_of_existing:\n",
    "            line = rand_choice\n",
    "            \n",
    "        while line.split(' ')[-1].isalpha() == False:\n",
    "            rand_choice = random.choice(all_lines)['s']\n",
    "            if rand_choice not in list_of_existing:\n",
    "                line = rand_choice\n",
    "        \n",
    "        flag = False\n",
    "        while flag == False:            \n",
    "            try:\n",
    "                \n",
    "                word_to_rhyme = line.split(' ')[-1]\n",
    "                phones = pronouncing.phones_for_word(word_to_rhyme)\n",
    "                phones = phones[0]\n",
    "                flag= True\n",
    "                \n",
    "            except IndexError:  \n",
    "                \n",
    "                rand_choice = random.choice(all_lines)['s']\n",
    "                while line.split(' ')[-1].isalpha() == False:\n",
    "                    rand_choice = random.choice(all_lines)['s']\n",
    "                    if rand_choice not in list_of_existing:\n",
    "                        line = rand_choice\n",
    "                phones = pronouncing.phones_for_word(word_to_rhyme)\n",
    "                phones = phones[0]\n",
    "            \n",
    "            \n",
    "            \n",
    "        \n",
    "        ###\n",
    "        \n",
    "        rhyming_phones = pronouncing.rhyming_part(phones)\n",
    "        return line, rhyming_phones\n",
    "    \n",
    "    # Finds lines that end with similar rhymes.\n",
    "    def secondary_line_finder(list_of_existing, phones_to_rhyme):   \n",
    "        \n",
    "        \n",
    "        rand_choice = ''\n",
    "        \n",
    "        while rand_choice in list_of_existing or rand_choice =='':\n",
    "            key = random.choice(list(by_rhyming_part[phones_to_rhyme].keys()))    \n",
    "            rand_choice = random.choice(list(by_rhyming_part[phones_to_rhyme][key]))  \n",
    "            \n",
    "        return rand_choice\n",
    "            \n",
    "\n",
    "    list_of_lines = []\n",
    "    line1, line1_phones = initial_line_finder(list_of_lines)\n",
    "    list_of_lines.append(line1)\n",
    "        \n",
    "    line2 = secondary_line_finder(list_of_lines, line1_phones)\n",
    "    list_of_lines.append(line2)\n",
    "    \n",
    "    line3, line3_phones = initial_line_finder(list_of_lines)\n",
    "    list_of_lines.append(line3)\n",
    "    \n",
    "    line4 = secondary_line_finder(list_of_lines, line3_phones)\n",
    "    list_of_lines.append(line4)\n",
    "    \n",
    "    line5 = secondary_line_finder(list_of_lines, line1_phones)\n",
    "\n",
    "    return line1, line2, line3, line4, line5\n",
    "\n",
    "    \n",
    "    "
   ]
  },
  {
   "cell_type": "code",
   "execution_count": 335,
   "id": "devoted-mixer",
   "metadata": {},
   "outputs": [],
   "source": [
    "from textblob import TextBlob"
   ]
  },
  {
   "cell_type": "code",
   "execution_count": 336,
   "id": "sapphire-audit",
   "metadata": {},
   "outputs": [
    {
     "name": "stdout",
     "output_type": "stream",
     "text": [
      "To her few little years of glitter and gloom\n",
      "And come from out the cold and gloom\n",
      "And serious thoughts began to claim\n",
      "But all the same, you need not maim\n",
      "Betwixt the eye and smell, from the curl'd fume\n"
     ]
    }
   ],
   "source": [
    "line1, line2, line3, line4, line5 = limirick_machine()\n",
    "print(line1)\n",
    "print(line2)\n",
    "print(line3)\n",
    "print(line4)\n",
    "print(line5)"
   ]
  },
  {
   "cell_type": "code",
   "execution_count": 283,
   "id": "faced-warrant",
   "metadata": {
    "scrolled": false
   },
   "outputs": [],
   "source": [
    "#initial set up.\n",
    "import pandas as pd\n",
    "temp_limirick_dict= {'line1':[],'line2':[],'line3':[],'line4':[],'line5':[],}\n",
    "for i in range(10):\n",
    "    line1, line2, line3, line4, line5 = limirick_machine()\n",
    "    temp_limirick_dict['line1'].append(line1)\n",
    "    temp_limirick_dict['line2'].append(line2)\n",
    "    temp_limirick_dict['line3'].append(line3)\n",
    "    temp_limirick_dict['line4'].append(line4)\n",
    "    temp_limirick_dict['line5'].append(line5)\n",
    "basic_limirick_df = pd.DataFrame(temp_limirick_dict)\n",
    "\n",
    "\n",
    "    \n",
    "    "
   ]
  },
  {
   "cell_type": "code",
   "execution_count": 348,
   "id": "medieval-quilt",
   "metadata": {},
   "outputs": [],
   "source": [
    "#increase size\n",
    "#I just run this a few times, errors don't hurt if you just run it again.\n",
    "temp_limirick_dict= {'line1':[],'line2':[],'line3':[],'line4':[],'line5':[],}\n",
    "for i in range(10):\n",
    "    line1, line2, line3, line4, line5 = limirick_machine()\n",
    "    temp_limirick_dict['line1'].append(line1)\n",
    "    temp_limirick_dict['line2'].append(line2)\n",
    "    temp_limirick_dict['line3'].append(line3)\n",
    "    temp_limirick_dict['line4'].append(line4)\n",
    "    temp_limirick_dict['line5'].append(line5)\n",
    "temp_limirick_df = pd.DataFrame(temp_limirick_dict)\n",
    "basic_limirick_df = pd.concat([basic_limirick_df, temp_limirick_df])\n"
   ]
  },
  {
   "cell_type": "code",
   "execution_count": 349,
   "id": "fossil-probe",
   "metadata": {},
   "outputs": [
    {
     "name": "stdout",
     "output_type": "stream",
     "text": [
      "(50, 5)\n",
      "                                       line1  \\\n",
      "8  Meanwhile, the best way to escape His Ire   \n",
      "\n",
      "                                  line2  \\\n",
      "8  The clouds appear, the clouds retire   \n",
      "\n",
      "                                               line3  \\\n",
      "8  And the blood of her veins in the moonlight th...   \n",
      "\n",
      "                                line4                               line5  \n",
      "8  I've had it on my mind to tell yer  And, pondering each event, inquire  \n"
     ]
    }
   ],
   "source": [
    "print(basic_limirick_df.shape)\n",
    "print(basic_limirick_df.sample(1))"
   ]
  },
  {
   "cell_type": "code",
   "execution_count": 49,
   "id": "worst-burst",
   "metadata": {},
   "outputs": [
    {
     "data": {
      "text/plain": [
       "'A dame of semblance holy.  With stern voice'"
      ]
     },
     "execution_count": 49,
     "metadata": {},
     "output_type": "execute_result"
    }
   ],
   "source": [
    "test_value = basic_limirick_df['line1'].iloc[0]\n",
    "test_value"
   ]
  },
  {
   "cell_type": "code",
   "execution_count": 53,
   "id": "viral-blackberry",
   "metadata": {
    "scrolled": true
   },
   "outputs": [
    {
     "ename": "ValueError",
     "evalue": "too many values to unpack (expected 2)",
     "output_type": "error",
     "traceback": [
      "\u001b[1;31m---------------------------------------------------------------------------\u001b[0m",
      "\u001b[1;31mValueError\u001b[0m                                Traceback (most recent call last)",
      "\u001b[1;32m<ipython-input-53-e589a1cca2e8>\u001b[0m in \u001b[0;36m<module>\u001b[1;34m\u001b[0m\n\u001b[0;32m      6\u001b[0m \u001b[1;33m\u001b[0m\u001b[0m\n\u001b[0;32m      7\u001b[0m \u001b[1;32mfor\u001b[0m \u001b[0mcolumn\u001b[0m \u001b[1;32min\u001b[0m \u001b[0mbasic_limirick_df\u001b[0m\u001b[1;33m:\u001b[0m\u001b[1;33m\u001b[0m\u001b[1;33m\u001b[0m\u001b[0m\n\u001b[1;32m----> 8\u001b[1;33m     \u001b[0mbasic_limirick_df\u001b[0m\u001b[1;33m[\u001b[0m\u001b[0mcolumn\u001b[0m \u001b[1;33m+\u001b[0m \u001b[1;34m'_sentiment'\u001b[0m\u001b[1;33m]\u001b[0m\u001b[1;33m,\u001b[0m \u001b[0mbasic_limirick_df\u001b[0m\u001b[1;33m[\u001b[0m\u001b[0mcolumn\u001b[0m \u001b[1;33m+\u001b[0m \u001b[1;34m'_polarity'\u001b[0m\u001b[1;33m]\u001b[0m \u001b[1;33m=\u001b[0m \u001b[0mbasic_limirick_df\u001b[0m\u001b[1;33m[\u001b[0m\u001b[0mcolumn\u001b[0m\u001b[1;33m]\u001b[0m\u001b[1;33m.\u001b[0m\u001b[0mapply\u001b[0m\u001b[1;33m(\u001b[0m\u001b[0msentimenter\u001b[0m\u001b[1;33m)\u001b[0m\u001b[1;33m\u001b[0m\u001b[1;33m\u001b[0m\u001b[0m\n\u001b[0m\u001b[0;32m      9\u001b[0m     \u001b[0mprint\u001b[0m\u001b[1;33m(\u001b[0m\u001b[0mcolumn\u001b[0m\u001b[1;33m)\u001b[0m\u001b[1;33m\u001b[0m\u001b[1;33m\u001b[0m\u001b[0m\n",
      "\u001b[1;31mValueError\u001b[0m: too many values to unpack (expected 2)"
     ]
    }
   ],
   "source": [
    "### This doesn't work. But it feels like it should.\n",
    "def sentimenter(line):\n",
    "    sentiment= TextBlob(line).sentiment\n",
    "    polarity = sentiment.polarity\n",
    "    subjectivity = sentiment.subjectivity\n",
    "    return (polarity, subjectivity)\n",
    "\n",
    "for column in basic_limirick_df:\n",
    "    basic_limirick_df[column + '_sentiment'], basic_limirick_df[column + '_polarity'] = basic_limirick_df[column].apply(sentimenter)\n",
    "    print(column)"
   ]
  },
  {
   "cell_type": "code",
   "execution_count": 350,
   "id": "loaded-defeat",
   "metadata": {},
   "outputs": [
    {
     "name": "stdout",
     "output_type": "stream",
     "text": [
      "line1\n",
      "line2\n",
      "line3\n",
      "line4\n",
      "line5\n"
     ]
    }
   ],
   "source": [
    "def sentimenter1(line):\n",
    "    sentiment= TextBlob(line).sentiment\n",
    "    polarity = sentiment.polarity\n",
    "    subjectivity = sentiment.subjectivity\n",
    "    return polarity\n",
    "\n",
    "for column in basic_limirick_df:\n",
    "    basic_limirick_df[column + '_polarity'] = basic_limirick_df[column].apply(sentimenter1)"
   ]
  },
  {
   "cell_type": "code",
   "execution_count": 351,
   "id": "finite-usage",
   "metadata": {},
   "outputs": [
    {
     "data": {
      "text/plain": [
       "-0.08333333333333333"
      ]
     },
     "execution_count": 351,
     "metadata": {},
     "output_type": "execute_result"
    }
   ],
   "source": [
    "sentimenter1('half lying on the grass, yellow')"
   ]
  },
  {
   "cell_type": "code",
   "execution_count": 363,
   "id": "instrumental-recycling",
   "metadata": {
    "scrolled": true
   },
   "outputs": [
    {
     "data": {
      "text/html": [
       "<div>\n",
       "<style scoped>\n",
       "    .dataframe tbody tr th:only-of-type {\n",
       "        vertical-align: middle;\n",
       "    }\n",
       "\n",
       "    .dataframe tbody tr th {\n",
       "        vertical-align: top;\n",
       "    }\n",
       "\n",
       "    .dataframe thead th {\n",
       "        text-align: right;\n",
       "    }\n",
       "</style>\n",
       "<table border=\"1\" class=\"dataframe\">\n",
       "  <thead>\n",
       "    <tr style=\"text-align: right;\">\n",
       "      <th></th>\n",
       "      <th>line1</th>\n",
       "      <th>line2</th>\n",
       "      <th>line3</th>\n",
       "      <th>line4</th>\n",
       "      <th>line5</th>\n",
       "      <th>line1_polarity</th>\n",
       "      <th>line2_polarity</th>\n",
       "      <th>line3_polarity</th>\n",
       "      <th>line4_polarity</th>\n",
       "      <th>line5_polarity</th>\n",
       "      <th>line1_subjectivity</th>\n",
       "      <th>line2_subjectivity</th>\n",
       "      <th>line3_subjectivity</th>\n",
       "      <th>line4_subjectivity</th>\n",
       "      <th>line5_subjectivity</th>\n",
       "    </tr>\n",
       "  </thead>\n",
       "  <tbody>\n",
       "    <tr>\n",
       "      <th>2</th>\n",
       "      <td>I could not think. At last I opened up</td>\n",
       "      <td>I pray ye by the worth that guides ye up</td>\n",
       "      <td>Now when the mighty king Alcinous heard this s...</td>\n",
       "      <td>Nor even the broadswords which Dundee</td>\n",
       "      <td>It was Bell-of-the-North and Tinkerman's Pup</td>\n",
       "      <td>0.0</td>\n",
       "      <td>0.300</td>\n",
       "      <td>0.400000</td>\n",
       "      <td>0.000000</td>\n",
       "      <td>0.0</td>\n",
       "      <td>0.0</td>\n",
       "      <td>0.300</td>\n",
       "      <td>0.400000</td>\n",
       "      <td>0.000000</td>\n",
       "      <td>0.0</td>\n",
       "    </tr>\n",
       "    <tr>\n",
       "      <th>4</th>\n",
       "      <td>The stretch of promise.  They, whose verse of ...</td>\n",
       "      <td>Bot whan the scharpnesse of the spore</td>\n",
       "      <td>The fragrance of the music reeled and rung</td>\n",
       "      <td>And beaten by his dagger when she clung</td>\n",
       "      <td>The rivers too, as if they would deplore</td>\n",
       "      <td>0.0</td>\n",
       "      <td>0.000</td>\n",
       "      <td>0.000000</td>\n",
       "      <td>0.000000</td>\n",
       "      <td>0.0</td>\n",
       "      <td>0.0</td>\n",
       "      <td>0.000</td>\n",
       "      <td>0.000000</td>\n",
       "      <td>0.000000</td>\n",
       "      <td>0.0</td>\n",
       "    </tr>\n",
       "    <tr>\n",
       "      <th>2</th>\n",
       "      <td>Of the sad eyes that from the night's faint rim</td>\n",
       "      <td>And leaving land far out of sight, would skim</td>\n",
       "      <td>Down unto Mary, when the Son of God</td>\n",
       "      <td>Idalia cradles, whose young lips the rod</td>\n",
       "      <td>But we'll have drink from M'riarty Jim</td>\n",
       "      <td>-0.5</td>\n",
       "      <td>0.100</td>\n",
       "      <td>-0.155556</td>\n",
       "      <td>0.100000</td>\n",
       "      <td>0.0</td>\n",
       "      <td>-0.5</td>\n",
       "      <td>0.100</td>\n",
       "      <td>-0.155556</td>\n",
       "      <td>0.100000</td>\n",
       "      <td>0.0</td>\n",
       "    </tr>\n",
       "    <tr>\n",
       "      <th>6</th>\n",
       "      <td>I thought of all by turns, and yet I lie</td>\n",
       "      <td>The States are full of mush and pie</td>\n",
       "      <td>Come share their leafy solitudes. Grim Death</td>\n",
       "      <td>\"Sleep, that abides in vassalage of death</td>\n",
       "      <td>She slumbered not: to her a last goodbye</td>\n",
       "      <td>0.0</td>\n",
       "      <td>0.350</td>\n",
       "      <td>-1.000000</td>\n",
       "      <td>0.000000</td>\n",
       "      <td>0.0</td>\n",
       "      <td>0.0</td>\n",
       "      <td>0.350</td>\n",
       "      <td>-1.000000</td>\n",
       "      <td>0.000000</td>\n",
       "      <td>0.0</td>\n",
       "    </tr>\n",
       "    <tr>\n",
       "      <th>4</th>\n",
       "      <td>That emotion.  I bury it here by the sea</td>\n",
       "      <td>Bear it from sea to sea; and on some quay</td>\n",
       "      <td>In clubbum adveniunt, Juvenalis et advenit acer</td>\n",
       "      <td>Like a lightning flash, the racer</td>\n",
       "      <td>She knoweth the gleam of the world and the glee</td>\n",
       "      <td>0.0</td>\n",
       "      <td>0.000</td>\n",
       "      <td>0.000000</td>\n",
       "      <td>0.000000</td>\n",
       "      <td>0.0</td>\n",
       "      <td>0.0</td>\n",
       "      <td>0.000</td>\n",
       "      <td>0.000000</td>\n",
       "      <td>0.000000</td>\n",
       "      <td>0.0</td>\n",
       "    </tr>\n",
       "    <tr>\n",
       "      <th>5</th>\n",
       "      <td>Sir, for ye know that in King Uther's time</td>\n",
       "      <td>Yet into that world's current so sublime</td>\n",
       "      <td>Most was her beam on the knightly:  she led</td>\n",
       "      <td>And each knight’s hauberk hewn and shred</td>\n",
       "      <td>Yes, every trap that ever caught a dime</td>\n",
       "      <td>0.0</td>\n",
       "      <td>0.000</td>\n",
       "      <td>0.500000</td>\n",
       "      <td>0.000000</td>\n",
       "      <td>0.0</td>\n",
       "      <td>0.0</td>\n",
       "      <td>0.000</td>\n",
       "      <td>0.500000</td>\n",
       "      <td>0.000000</td>\n",
       "      <td>0.0</td>\n",
       "    </tr>\n",
       "    <tr>\n",
       "      <th>2</th>\n",
       "      <td>Like as a dryad, from her native bole</td>\n",
       "      <td>It must have been extremely droll</td>\n",
       "      <td>Beneath the low-hung clouds the sheets of snow</td>\n",
       "      <td>Forth stalk'd Atrides with heart-riving wo</td>\n",
       "      <td>For that dire fiend who spurns control</td>\n",
       "      <td>0.0</td>\n",
       "      <td>-0.125</td>\n",
       "      <td>0.000000</td>\n",
       "      <td>0.000000</td>\n",
       "      <td>0.0</td>\n",
       "      <td>0.0</td>\n",
       "      <td>-0.125</td>\n",
       "      <td>0.000000</td>\n",
       "      <td>0.000000</td>\n",
       "      <td>0.0</td>\n",
       "    </tr>\n",
       "    <tr>\n",
       "      <th>7</th>\n",
       "      <td>Where Achilles and Diomed rest</td>\n",
       "      <td>“I loathe, with heart and soul detest</td>\n",
       "      <td>thousands upon thousands.  Business men were t...</td>\n",
       "      <td>A rampin', ragin' devil, all  fangs and</td>\n",
       "      <td>Till now, as night fell and they lay abreast</td>\n",
       "      <td>0.0</td>\n",
       "      <td>0.000</td>\n",
       "      <td>0.000000</td>\n",
       "      <td>0.000000</td>\n",
       "      <td>0.0</td>\n",
       "      <td>0.0</td>\n",
       "      <td>0.000</td>\n",
       "      <td>0.000000</td>\n",
       "      <td>0.000000</td>\n",
       "      <td>0.0</td>\n",
       "    </tr>\n",
       "    <tr>\n",
       "      <th>9</th>\n",
       "      <td>What a look! what fearful sight</td>\n",
       "      <td>Raged wounded lion, as in fell despite</td>\n",
       "      <td>Priests in white garments go, with sacred wands</td>\n",
       "      <td>splendour of the countryside, the pure ponds</td>\n",
       "      <td>Achilles rising, thus: \"Let Greece excite</td>\n",
       "      <td>-0.9</td>\n",
       "      <td>0.000</td>\n",
       "      <td>0.000000</td>\n",
       "      <td>0.214286</td>\n",
       "      <td>0.0</td>\n",
       "      <td>-0.9</td>\n",
       "      <td>0.000</td>\n",
       "      <td>0.000000</td>\n",
       "      <td>0.214286</td>\n",
       "      <td>0.0</td>\n",
       "    </tr>\n",
       "    <tr>\n",
       "      <th>8</th>\n",
       "      <td>success, whether in translating poetry or pros...</td>\n",
       "      <td>And fill the long reach of the old seashore</td>\n",
       "      <td>still is, in the east looked upon as the invio...</td>\n",
       "      <td>The madness of that day when with his glove</td>\n",
       "      <td>And, though I say it, there's no troubadour</td>\n",
       "      <td>0.3</td>\n",
       "      <td>0.025</td>\n",
       "      <td>0.000000</td>\n",
       "      <td>0.000000</td>\n",
       "      <td>0.0</td>\n",
       "      <td>0.3</td>\n",
       "      <td>0.025</td>\n",
       "      <td>0.000000</td>\n",
       "      <td>0.000000</td>\n",
       "      <td>0.0</td>\n",
       "    </tr>\n",
       "  </tbody>\n",
       "</table>\n",
       "</div>"
      ],
      "text/plain": [
       "                                               line1  \\\n",
       "2             I could not think. At last I opened up   \n",
       "4  The stretch of promise.  They, whose verse of ...   \n",
       "2    Of the sad eyes that from the night's faint rim   \n",
       "6           I thought of all by turns, and yet I lie   \n",
       "4           That emotion.  I bury it here by the sea   \n",
       "5         Sir, for ye know that in King Uther's time   \n",
       "2              Like as a dryad, from her native bole   \n",
       "7                     Where Achilles and Diomed rest   \n",
       "9                    What a look! what fearful sight   \n",
       "8  success, whether in translating poetry or pros...   \n",
       "\n",
       "                                           line2  \\\n",
       "2       I pray ye by the worth that guides ye up   \n",
       "4          Bot whan the scharpnesse of the spore   \n",
       "2  And leaving land far out of sight, would skim   \n",
       "6            The States are full of mush and pie   \n",
       "4      Bear it from sea to sea; and on some quay   \n",
       "5       Yet into that world's current so sublime   \n",
       "2              It must have been extremely droll   \n",
       "7          “I loathe, with heart and soul detest   \n",
       "9         Raged wounded lion, as in fell despite   \n",
       "8    And fill the long reach of the old seashore   \n",
       "\n",
       "                                               line3  \\\n",
       "2  Now when the mighty king Alcinous heard this s...   \n",
       "4         The fragrance of the music reeled and rung   \n",
       "2                Down unto Mary, when the Son of God   \n",
       "6       Come share their leafy solitudes. Grim Death   \n",
       "4    In clubbum adveniunt, Juvenalis et advenit acer   \n",
       "5        Most was her beam on the knightly:  she led   \n",
       "2     Beneath the low-hung clouds the sheets of snow   \n",
       "7  thousands upon thousands.  Business men were t...   \n",
       "9    Priests in white garments go, with sacred wands   \n",
       "8  still is, in the east looked upon as the invio...   \n",
       "\n",
       "                                          line4  \\\n",
       "2         Nor even the broadswords which Dundee   \n",
       "4       And beaten by his dagger when she clung   \n",
       "2      Idalia cradles, whose young lips the rod   \n",
       "6     \"Sleep, that abides in vassalage of death   \n",
       "4             Like a lightning flash, the racer   \n",
       "5      And each knight’s hauberk hewn and shred   \n",
       "2    Forth stalk'd Atrides with heart-riving wo   \n",
       "7       A rampin', ragin' devil, all  fangs and   \n",
       "9  splendour of the countryside, the pure ponds   \n",
       "8   The madness of that day when with his glove   \n",
       "\n",
       "                                             line5  line1_polarity  \\\n",
       "2     It was Bell-of-the-North and Tinkerman's Pup             0.0   \n",
       "4         The rivers too, as if they would deplore             0.0   \n",
       "2           But we'll have drink from M'riarty Jim            -0.5   \n",
       "6         She slumbered not: to her a last goodbye             0.0   \n",
       "4  She knoweth the gleam of the world and the glee             0.0   \n",
       "5          Yes, every trap that ever caught a dime             0.0   \n",
       "2           For that dire fiend who spurns control             0.0   \n",
       "7     Till now, as night fell and they lay abreast             0.0   \n",
       "9        Achilles rising, thus: \"Let Greece excite            -0.9   \n",
       "8      And, though I say it, there's no troubadour             0.3   \n",
       "\n",
       "   line2_polarity  line3_polarity  line4_polarity  line5_polarity  \\\n",
       "2           0.300        0.400000        0.000000             0.0   \n",
       "4           0.000        0.000000        0.000000             0.0   \n",
       "2           0.100       -0.155556        0.100000             0.0   \n",
       "6           0.350       -1.000000        0.000000             0.0   \n",
       "4           0.000        0.000000        0.000000             0.0   \n",
       "5           0.000        0.500000        0.000000             0.0   \n",
       "2          -0.125        0.000000        0.000000             0.0   \n",
       "7           0.000        0.000000        0.000000             0.0   \n",
       "9           0.000        0.000000        0.214286             0.0   \n",
       "8           0.025        0.000000        0.000000             0.0   \n",
       "\n",
       "   line1_subjectivity  line2_subjectivity  line3_subjectivity  \\\n",
       "2                 0.0               0.300            0.400000   \n",
       "4                 0.0               0.000            0.000000   \n",
       "2                -0.5               0.100           -0.155556   \n",
       "6                 0.0               0.350           -1.000000   \n",
       "4                 0.0               0.000            0.000000   \n",
       "5                 0.0               0.000            0.500000   \n",
       "2                 0.0              -0.125            0.000000   \n",
       "7                 0.0               0.000            0.000000   \n",
       "9                -0.9               0.000            0.000000   \n",
       "8                 0.3               0.025            0.000000   \n",
       "\n",
       "   line4_subjectivity  line5_subjectivity  \n",
       "2            0.000000                 0.0  \n",
       "4            0.000000                 0.0  \n",
       "2            0.100000                 0.0  \n",
       "6            0.000000                 0.0  \n",
       "4            0.000000                 0.0  \n",
       "5            0.000000                 0.0  \n",
       "2            0.000000                 0.0  \n",
       "7            0.000000                 0.0  \n",
       "9            0.214286                 0.0  \n",
       "8            0.000000                 0.0  "
      ]
     },
     "execution_count": 363,
     "metadata": {},
     "output_type": "execute_result"
    }
   ],
   "source": [
    "basic_limirick_df.sample(10)"
   ]
  },
  {
   "cell_type": "code",
   "execution_count": 354,
   "id": "attempted-siemens",
   "metadata": {
    "scrolled": true
   },
   "outputs": [
    {
     "name": "stdout",
     "output_type": "stream",
     "text": [
      "line1\n",
      "line2\n",
      "line3\n",
      "line4\n",
      "line5\n"
     ]
    },
    {
     "ename": "TypeError",
     "evalue": "The `text` argument passed to `__init__(text)` must be a string, not <class 'float'>",
     "output_type": "error",
     "traceback": [
      "\u001b[1;31m---------------------------------------------------------------------------\u001b[0m",
      "\u001b[1;31mTypeError\u001b[0m                                 Traceback (most recent call last)",
      "\u001b[1;32m<ipython-input-354-3e3b2de80ed8>\u001b[0m in \u001b[0;36m<module>\u001b[1;34m\u001b[0m\n\u001b[0;32m      6\u001b[0m \u001b[1;33m\u001b[0m\u001b[0m\n\u001b[0;32m      7\u001b[0m \u001b[1;32mfor\u001b[0m \u001b[0mcolumn\u001b[0m \u001b[1;32min\u001b[0m \u001b[0mbasic_limirick_df\u001b[0m\u001b[1;33m:\u001b[0m\u001b[1;33m\u001b[0m\u001b[1;33m\u001b[0m\u001b[0m\n\u001b[1;32m----> 8\u001b[1;33m     \u001b[0mbasic_limirick_df\u001b[0m\u001b[1;33m[\u001b[0m\u001b[0mcolumn\u001b[0m \u001b[1;33m+\u001b[0m \u001b[1;34m'_subjectivity'\u001b[0m\u001b[1;33m]\u001b[0m \u001b[1;33m=\u001b[0m \u001b[0mbasic_limirick_df\u001b[0m\u001b[1;33m[\u001b[0m\u001b[0mcolumn\u001b[0m\u001b[1;33m]\u001b[0m\u001b[1;33m.\u001b[0m\u001b[0mapply\u001b[0m\u001b[1;33m(\u001b[0m\u001b[0msentimenter1\u001b[0m\u001b[1;33m)\u001b[0m\u001b[1;33m\u001b[0m\u001b[1;33m\u001b[0m\u001b[0m\n\u001b[0m\u001b[0;32m      9\u001b[0m     \u001b[0mprint\u001b[0m\u001b[1;33m(\u001b[0m\u001b[0mcolumn\u001b[0m\u001b[1;33m)\u001b[0m\u001b[1;33m\u001b[0m\u001b[1;33m\u001b[0m\u001b[0m\n",
      "\u001b[1;32mc:\\users\\prathmun\\appdata\\local\\programs\\python\\python39\\lib\\site-packages\\pandas\\core\\series.py\u001b[0m in \u001b[0;36mapply\u001b[1;34m(self, func, convert_dtype, args, **kwds)\u001b[0m\n\u001b[0;32m   4106\u001b[0m             \u001b[1;32melse\u001b[0m\u001b[1;33m:\u001b[0m\u001b[1;33m\u001b[0m\u001b[1;33m\u001b[0m\u001b[0m\n\u001b[0;32m   4107\u001b[0m                 \u001b[0mvalues\u001b[0m \u001b[1;33m=\u001b[0m \u001b[0mself\u001b[0m\u001b[1;33m.\u001b[0m\u001b[0mastype\u001b[0m\u001b[1;33m(\u001b[0m\u001b[0mobject\u001b[0m\u001b[1;33m)\u001b[0m\u001b[1;33m.\u001b[0m\u001b[0m_values\u001b[0m\u001b[1;33m\u001b[0m\u001b[1;33m\u001b[0m\u001b[0m\n\u001b[1;32m-> 4108\u001b[1;33m                 \u001b[0mmapped\u001b[0m \u001b[1;33m=\u001b[0m \u001b[0mlib\u001b[0m\u001b[1;33m.\u001b[0m\u001b[0mmap_infer\u001b[0m\u001b[1;33m(\u001b[0m\u001b[0mvalues\u001b[0m\u001b[1;33m,\u001b[0m \u001b[0mf\u001b[0m\u001b[1;33m,\u001b[0m \u001b[0mconvert\u001b[0m\u001b[1;33m=\u001b[0m\u001b[0mconvert_dtype\u001b[0m\u001b[1;33m)\u001b[0m\u001b[1;33m\u001b[0m\u001b[1;33m\u001b[0m\u001b[0m\n\u001b[0m\u001b[0;32m   4109\u001b[0m \u001b[1;33m\u001b[0m\u001b[0m\n\u001b[0;32m   4110\u001b[0m         \u001b[1;32mif\u001b[0m \u001b[0mlen\u001b[0m\u001b[1;33m(\u001b[0m\u001b[0mmapped\u001b[0m\u001b[1;33m)\u001b[0m \u001b[1;32mand\u001b[0m \u001b[0misinstance\u001b[0m\u001b[1;33m(\u001b[0m\u001b[0mmapped\u001b[0m\u001b[1;33m[\u001b[0m\u001b[1;36m0\u001b[0m\u001b[1;33m]\u001b[0m\u001b[1;33m,\u001b[0m \u001b[0mSeries\u001b[0m\u001b[1;33m)\u001b[0m\u001b[1;33m:\u001b[0m\u001b[1;33m\u001b[0m\u001b[1;33m\u001b[0m\u001b[0m\n",
      "\u001b[1;32mpandas\\_libs\\lib.pyx\u001b[0m in \u001b[0;36mpandas._libs.lib.map_infer\u001b[1;34m()\u001b[0m\n",
      "\u001b[1;32m<ipython-input-350-85fc1a8ce75f>\u001b[0m in \u001b[0;36msentimenter1\u001b[1;34m(line)\u001b[0m\n\u001b[0;32m      1\u001b[0m \u001b[1;32mdef\u001b[0m \u001b[0msentimenter1\u001b[0m\u001b[1;33m(\u001b[0m\u001b[0mline\u001b[0m\u001b[1;33m)\u001b[0m\u001b[1;33m:\u001b[0m\u001b[1;33m\u001b[0m\u001b[1;33m\u001b[0m\u001b[0m\n\u001b[1;32m----> 2\u001b[1;33m     \u001b[0msentiment\u001b[0m\u001b[1;33m=\u001b[0m \u001b[0mTextBlob\u001b[0m\u001b[1;33m(\u001b[0m\u001b[0mline\u001b[0m\u001b[1;33m)\u001b[0m\u001b[1;33m.\u001b[0m\u001b[0msentiment\u001b[0m\u001b[1;33m\u001b[0m\u001b[1;33m\u001b[0m\u001b[0m\n\u001b[0m\u001b[0;32m      3\u001b[0m     \u001b[0mpolarity\u001b[0m \u001b[1;33m=\u001b[0m \u001b[0msentiment\u001b[0m\u001b[1;33m.\u001b[0m\u001b[0mpolarity\u001b[0m\u001b[1;33m\u001b[0m\u001b[1;33m\u001b[0m\u001b[0m\n\u001b[0;32m      4\u001b[0m     \u001b[0msubjectivity\u001b[0m \u001b[1;33m=\u001b[0m \u001b[0msentiment\u001b[0m\u001b[1;33m.\u001b[0m\u001b[0msubjectivity\u001b[0m\u001b[1;33m\u001b[0m\u001b[1;33m\u001b[0m\u001b[0m\n\u001b[0;32m      5\u001b[0m     \u001b[1;32mreturn\u001b[0m \u001b[0mpolarity\u001b[0m\u001b[1;33m\u001b[0m\u001b[1;33m\u001b[0m\u001b[0m\n",
      "\u001b[1;32mc:\\users\\prathmun\\appdata\\local\\programs\\python\\python39\\lib\\site-packages\\textblob\\blob.py\u001b[0m in \u001b[0;36m__init__\u001b[1;34m(self, text, tokenizer, pos_tagger, np_extractor, analyzer, parser, classifier, clean_html)\u001b[0m\n\u001b[0;32m    382\u001b[0m                 parser=None, classifier=None, clean_html=False):\n\u001b[0;32m    383\u001b[0m         \u001b[1;32mif\u001b[0m \u001b[1;32mnot\u001b[0m \u001b[0misinstance\u001b[0m\u001b[1;33m(\u001b[0m\u001b[0mtext\u001b[0m\u001b[1;33m,\u001b[0m \u001b[0mbasestring\u001b[0m\u001b[1;33m)\u001b[0m\u001b[1;33m:\u001b[0m\u001b[1;33m\u001b[0m\u001b[1;33m\u001b[0m\u001b[0m\n\u001b[1;32m--> 384\u001b[1;33m             raise TypeError('The `text` argument passed to `__init__(text)` '\n\u001b[0m\u001b[0;32m    385\u001b[0m                             'must be a string, not {0}'.format(type(text)))\n\u001b[0;32m    386\u001b[0m         \u001b[1;32mif\u001b[0m \u001b[0mclean_html\u001b[0m\u001b[1;33m:\u001b[0m\u001b[1;33m\u001b[0m\u001b[1;33m\u001b[0m\u001b[0m\n",
      "\u001b[1;31mTypeError\u001b[0m: The `text` argument passed to `__init__(text)` must be a string, not <class 'float'>"
     ]
    }
   ],
   "source": [
    "#this broke on this batch of limiricks, but it worked with another. Something to investigate.\n",
    "def sentimenter2(line):\n",
    "    sentiment= TextBlob(line).sentiment\n",
    "    polarity = sentiment.polarity\n",
    "    subjectivity = sentiment.subjectivity\n",
    "    return subjectivity\n",
    "\n",
    "for column in basic_limirick_df:\n",
    "    basic_limirick_df[column + '_subjectivity'] = basic_limirick_df[column].apply(sentimenter1)\n",
    "    print(column)"
   ]
  },
  {
   "cell_type": "code",
   "execution_count": 359,
   "id": "ready-theorem",
   "metadata": {},
   "outputs": [],
   "source": [
    "line1_negative_polarity_mask = basic_limirick_df.line1_polarity <0\n",
    "line2_negative_polarity_mask = basic_limirick_df.line2_polarity <0\n",
    "line3_negative_polarity_mask = basic_limirick_df.line3_polarity <0\n",
    "line4_negative_polarity_mask = basic_limirick_df.line4_polarity <0\n",
    "line5_negative_polarity_mask = basic_limirick_df.line5_polarity <0"
   ]
  },
  {
   "cell_type": "code",
   "execution_count": 362,
   "id": "shaped-treasurer",
   "metadata": {},
   "outputs": [
    {
     "name": "stdout",
     "output_type": "stream",
     "text": [
      "5    entirely selfish young creatures who enter int...\n",
      "5          The empty place within thy heart shall soon\n",
      "Name: line1, dtype: object\n",
      "5         Of them that be diseasyd and seke and\n",
      "5       Of fire that crawls and leaves an ashen\n",
      "5    Of hog-eyed Allen. Then, when some came in\n",
      "5           Showed her a passer-by, inopportune\n",
      "5      Yet into that world's current so sublime\n",
      "Name: line2, dtype: object\n"
     ]
    }
   ],
   "source": [
    "#Gotta reset the index when I concatonate or something. But I'm just annotating on this pass.\n",
    "\n",
    "basic_limirick_df[line1_point2_polarity_mask].head()\n",
    "print(basic_limirick_df['line1'][line1_negative_polarity_mask][5])\n",
    "print(basic_limirick_df['line2'][5])\n",
    "#print(basic_limirick_df['line3'][5])\n",
    "#print(basic_limirick_df['line4'][5])\n",
    "#print(basic_limirick_df['line5'][5])"
   ]
  },
  {
   "cell_type": "code",
   "execution_count": 364,
   "id": "surprised-commonwealth",
   "metadata": {},
   "outputs": [
    {
     "data": {
      "image/png": "[encoded data removed]",
      "text/plain": [
       "<Figure size 432x288 with 1 Axes>"
      ]
     },
     "metadata": {
      "needs_background": "light"
     },
     "output_type": "display_data"
    }
   ],
   "source": [
    "#make a wordcloud\n",
    "import nltk\n",
    "from nltk.corpus import stopwords\n",
    "from wordcloud import WordCloud, STOPWORDS\n",
    "# Create stopword list:\n",
    "stopwords = set(STOPWORDS)\n",
    "stopwords.update([\"br\", \"href\"])\n",
    "textt = \" \".join(review for review in basic_limirick_df.line2)\n",
    "wordcloud = WordCloud(stopwords=stopwords).generate(textt)\n",
    "plt.imshow(wordcloud, interpolation='bilinear')\n",
    "plt.axis(\"off\")\n",
    "plt.savefig('wordcloud11.png')\n",
    "plt.show()"
   ]
  },
  {
   "cell_type": "code",
   "execution_count": null,
   "id": "cellular-white",
   "metadata": {},
   "outputs": [],
   "source": []
  },
  {
   "cell_type": "code",
   "execution_count": null,
   "id": "analyzed-covering",
   "metadata": {},
   "outputs": [],
   "source": []
  }
 ],
 "metadata": {
  "kernelspec": {
   "display_name": "Python 3",
   "language": "python",
   "name": "python3"
  },
  "language_info": {
   "codemirror_mode": {
    "name": "ipython",
    "version": 3
   },
   "file_extension": ".py",
   "mimetype": "text/x-python",
   "name": "python",
   "nbconvert_exporter": "python",
   "pygments_lexer": "ipython3",
   "version": "3.9.1"
  }
 },
 "nbformat": 4,
 "nbformat_minor": 5
}
