{
 "cells": [
  {
   "cell_type": "code",
   "execution_count": 32,
   "id": "compressed-manufacturer",
   "metadata": {},
   "outputs": [],
   "source": [
    "#tutorial followed: https://github.com/aparrish/gutenberg-poetry-corpus/blob/master/quick-experiments.ipynb"
   ]
  },
  {
   "cell_type": "code",
   "execution_count": 26,
   "id": "existing-access",
   "metadata": {},
   "outputs": [],
   "source": [
    "import gzip, json\n",
    "import random\n",
    "import re\n",
    "from collections import Counter"
   ]
  },
  {
   "cell_type": "code",
   "execution_count": 7,
   "id": "developed-frontier",
   "metadata": {
    "scrolled": true
   },
   "outputs": [],
   "source": [
    "all_lines =[]\n",
    "for line in gzip.open(\"gutenberg-poetry-v001.ndjson.gz\"):\n",
    "    all_lines.append(json.loads(line.strip()))"
   ]
  },
  {
   "cell_type": "code",
   "execution_count": 8,
   "id": "attractive-administration",
   "metadata": {
    "scrolled": false
   },
   "outputs": [
    {
     "data": {
      "text/plain": [
       "[{'s': \"And shared the lawyer's food and bed,\", 'gid': '17604'},\n",
       " {'s': 'And tended me with care.', 'gid': '35553'},\n",
       " {'s': 'Keep stern and still as destiny,', 'gid': '41955'},\n",
       " {'s': 'I hope that I some green here getten may.\"', 'gid': '2383'},\n",
       " {'s': 'Are dreams! this only _is_--', 'gid': '27739'},\n",
       " {'s': 'Few of us have the blood of kings, few are of courtly birth,',\n",
       "  'gid': '5625'},\n",
       " {'s': 'A fond and gentle foster-dam--', 'gid': '38463'},\n",
       " {'s': 'These are our realms, no limit to their sway!', 'gid': '35394'}]"
      ]
     },
     "execution_count": 8,
     "metadata": {},
     "output_type": "execute_result"
    }
   ],
   "source": [
    "random.sample(all_lines, 8)"
   ]
  },
  {
   "cell_type": "code",
   "execution_count": 10,
   "id": "raising-video",
   "metadata": {},
   "outputs": [],
   "source": [
    "flower_lines = [line['s'] for line in all_lines if re.search(r'\\bflower\\b', line['s'], re.I)]"
   ]
  },
  {
   "cell_type": "code",
   "execution_count": 11,
   "id": "failing-handy",
   "metadata": {},
   "outputs": [
    {
     "data": {
      "text/plain": [
       "['That are the flower of the earth?\"',\n",
       " 'The flower of fairy lore.',\n",
       " 'From flower to star read upward; you shall see',\n",
       " 'Thou breathest beauty like a flower,',\n",
       " 'And flower and vine, like angel wings',\n",
       " \"The very flower of Issland; 'twas a fair yet fearful scene.\",\n",
       " 'To make a stone a flower.',\n",
       " 'we caught flower and new bramble-fruit']"
      ]
     },
     "execution_count": 11,
     "metadata": {},
     "output_type": "execute_result"
    }
   ],
   "source": [
    "random.sample(flower_lines, 8)"
   ]
  },
  {
   "cell_type": "code",
   "execution_count": 18,
   "id": "breeding-seeker",
   "metadata": {},
   "outputs": [
    {
     "name": "stdout",
     "output_type": "stream",
     "text": [
      "                                        Or why sae sweet a flower as love\n",
      "                                                So sweet a flower as she.\"\n",
      "                                                         A flower as yet unblossomed. Warmth and light\n",
      "                                           Is only half in flower as yet. But why--\n",
      "                                        \"To gain so fair a flower as you,\n",
      "                                               Cast like a flower aside?\n",
      "                              (Yon scarlet fruit-bell is a flower asleep;)\n",
      "                                                 As doth a flower at Apollo's touch.\n",
      "                                             'Twas a pigmy flower at best,\n",
      "                                               But he, the flower at head and soil at root,\n",
      "                                               But he, the flower at head and soil at root,\n",
      "                                        Blooms the perfect flower at last.\n",
      "                                            Each plant and flower at length being view'd,\n",
      "                                              Shaking that flower at me with soft invitation\n",
      "                                           My sweet lovely flower at my ain fireside.\n",
      "                                       _Who can behold the flower at noon, nor seek_\n",
      "                                              Love's not a flower at sunset droops,\n",
      "                                               From the Is flower at the fence;\n",
      "                                          From the passion-flower at the gate,\n",
      "                                          From the passion-flower at the gate.\n",
      "                                          From the passion-flower at the gate.\n",
      "                                          From the passion-flower at the gate.\n",
      "                                              And those to flower at the prime (and yet\n",
      "                                                  I am the flower at your feet,\n",
      "                                           The plum-tree's flower awakens\n",
      "                                        And drink the very flower away.\n",
      "                                                 If such a flower be cast to the bleak winds,\n",
      "                                              Yes, let the flower be gathered in its bloom!\n",
      "                                    By thee shall herb and flower be kissed,\n",
      "                                    By thee shall herb and flower be kissed;\n",
      "                              The withered leaf, the faded flower be mine,\n",
      "                                                   Never a flower be near me set,\n",
      "                                                Before the flower be on the bramble spray?\n",
      "                                             \"If this fair flower be plucked, oh, misery!  oh,\n",
      "                                                    If the flower be scorched by the summer sun,\n",
      "                                                 And every flower be springing.\n",
      "                                                 And every flower be springing;\n",
      "                                                      Pale flower beaten by the rain!\n",
      "                        With careless scythe too near some flower bed,\n",
      "                        With careless scythe too near some flower bed,\n",
      "                        Humble little cottage, but a royal flower bed.\n",
      "                                 Dry wildness of the weedy flower bed;\n",
      "                                                       Nor flower bedropt with diamond dew;\n",
      "                                           Fruit trees and flower beds eaten bare,\n",
      "                                                 Among the flower beds her dear form sees,\n",
      "                                              So pluck the flower before it fades--\n",
      "                                        The colours of the flower before its leaves unclose;\n",
      "                                            pass silently, flower before our eyes, it is\n",
      "                                   Both beast and bird and flower before the Queen;\n",
      "                                        And like a fragile flower before the storm,\n"
     ]
    }
   ],
   "source": [
    "longest = max([len(x) for x in flower_lines])# find the length of the longest line\n",
    "center = longest - len(\"flower\") # and use it to create a \"center\" offset that will work for all lines.\n",
    "\n",
    "sorted_flower_lines = sorted(\n",
    "    [line for line in flower_lines if re.search(r\"\\bflower\\b\\s\\w\", line)], #only lines with word following\n",
    "    key=lambda line: line[re.search(r'\\bflower\\b\\s', line).end():])     #sort on the substring following the match.\n",
    "    \n",
    "for line in sorted_flower_lines[350:400]: #change these numbers to see a different slice\n",
    "    offset = center - re.search(r'\\bflower\\b', line, re.I).start()\n",
    "    print((\" \"*offset)+line) #left pad the string with spaces to align on flower"
   ]
  },
  {
   "cell_type": "code",
   "execution_count": 22,
   "id": "unavailable-cocktail",
   "metadata": {},
   "outputs": [],
   "source": [
    "found_adj = []\n",
    "for line in flower_lines:\n",
    "    matches = re.findall(r\"(the|a)\\s(\\b\\w+\\b)\\s(\\bflower\\b)\", line, re.I)\n",
    "    for match in matches:\n",
    "        found_adj.append(match[1])"
   ]
  },
  {
   "cell_type": "code",
   "execution_count": 23,
   "id": "organizational-tenant",
   "metadata": {},
   "outputs": [
    {
     "data": {
      "text/plain": [
       "['beauteous',\n",
       " 'poison',\n",
       " 'purple',\n",
       " 'constellated',\n",
       " 'happy',\n",
       " 'falling',\n",
       " 'little',\n",
       " 'stateliest',\n",
       " 'purple',\n",
       " 'humblest',\n",
       " 'morning',\n",
       " 'humblest']"
      ]
     },
     "execution_count": 23,
     "metadata": {},
     "output_type": "execute_result"
    }
   ],
   "source": [
    "random.sample(found_adj, 12)"
   ]
  },
  {
   "cell_type": "code",
   "execution_count": 27,
   "id": "accurate-direction",
   "metadata": {},
   "outputs": [
    {
     "data": {
      "text/plain": [
       "[('little', 26),\n",
       " ('white', 23),\n",
       " ('sweetest', 22),\n",
       " ('wild', 19),\n",
       " ('fairest', 15),\n",
       " ('tender', 13),\n",
       " ('sweet', 11),\n",
       " ('purple', 11),\n",
       " ('meanest', 11),\n",
       " ('lovely', 10),\n",
       " ('bonnie', 10),\n",
       " ('faded', 9)]"
      ]
     },
     "execution_count": 27,
     "metadata": {},
     "output_type": "execute_result"
    }
   ],
   "source": [
    "Counter(found_adj).most_common(12)"
   ]
  },
  {
   "cell_type": "code",
   "execution_count": 29,
   "id": "inner-criterion",
   "metadata": {},
   "outputs": [],
   "source": [
    "import pronouncing"
   ]
  },
  {
   "cell_type": "code",
   "execution_count": 30,
   "id": "executed-symphony",
   "metadata": {},
   "outputs": [],
   "source": [
    "source_word = \"flowering\"\n",
    "source_word_rhymes = pronouncing.rhymes(source_word)"
   ]
  },
  {
   "cell_type": "code",
   "execution_count": 31,
   "id": "stretch-testing",
   "metadata": {},
   "outputs": [
    {
     "data": {
      "text/plain": [
       "['cowering',\n",
       " 'devouring',\n",
       " 'empowering',\n",
       " 'glowering',\n",
       " 'powering',\n",
       " 'scouring',\n",
       " 'showering',\n",
       " 'souring',\n",
       " 'towering']"
      ]
     },
     "execution_count": 31,
     "metadata": {},
     "output_type": "execute_result"
    }
   ],
   "source": [
    "source_word_rhymes"
   ]
  },
  {
   "cell_type": "code",
   "execution_count": 34,
   "id": "upper-finding",
   "metadata": {
    "scrolled": true
   },
   "outputs": [
    {
     "name": "stdout",
     "output_type": "stream",
     "text": [
      "In the Winter you are cowering\n",
      "\"Oh, yes!\" exclaimed John, with a towering\n",
      "In the Winter you are cowering\n",
      "winged things may never pass, nay, not even the cowering\n",
      "Ithaca, these are wooing me against my will, and devouring\n",
      "\"Of Coleridge, I can not speak but with reverence. His towering\n",
      "upbraid him. \"Son of Tydeus,\" he said, \"why stand you cowering\n",
      "the heaviness of his heart, \"why are the Achaeans again scouring\n",
      "Maidens with towering\n",
      "Are its waters, aye showering\n",
      "In the Winter you are cowering\n",
      "In the Winter you are cowering\n",
      "So hunted, yet defiant, cowering\n",
      "The moonlit crests of foaming waves gleam towering\n"
     ]
    }
   ],
   "source": [
    "#And then look through the lines of poetry in the corpus for lines that end with any of these words:\n",
    "for line in all_lines:\n",
    "    text = line['s']\n",
    "    match = re.search(r'(\\b\\w+\\b)\\W*$', text)\n",
    "    if match:\n",
    "        last_word = match.group()\n",
    "        if last_word in source_word_rhymes:\n",
    "            print(text)"
   ]
  },
  {
   "cell_type": "code",
   "execution_count": 35,
   "id": "ahead-career",
   "metadata": {},
   "outputs": [
    {
     "data": {
      "text/plain": [
       "'F L AW1 ER0 IH0 NG'"
      ]
     },
     "execution_count": 35,
     "metadata": {},
     "output_type": "execute_result"
    }
   ],
   "source": [
    "phones = pronouncing.phones_for_word(source_word)[0] #\n",
    "phones"
   ]
  },
  {
   "cell_type": "code",
   "execution_count": 37,
   "id": "northern-robert",
   "metadata": {},
   "outputs": [
    {
     "data": {
      "text/plain": [
       "'AW1 ER0 IH0 NG'"
      ]
     },
     "execution_count": 37,
     "metadata": {},
     "output_type": "execute_result"
    }
   ],
   "source": [
    "pronouncing.rhyming_part(phones)"
   ]
  },
  {
   "cell_type": "code",
   "execution_count": 41,
   "id": "emotional-andrews",
   "metadata": {},
   "outputs": [],
   "source": [
    "#The following cell builds the data structure proposed above: a dictionary that maps rhyming parts \n",
    "#to a dictionary that maps words with that rhyming part to the lines of poetry that they're found at the end of.\n",
    "from collections import defaultdict\n",
    "by_rhyming_part = defaultdict(lambda: defaultdict(list))\n",
    "for line in all_lines:\n",
    "    text = line['s']\n",
    "    if not(32 < len(text) < 48): # only use lines of uniform lengths\n",
    "        continue\n",
    "    match = re.search(r'(\\b\\w+\\b)\\W*$', text)\n",
    "    if match:\n",
    "        last_word = match.group()\n",
    "        pronunciations = pronouncing.phones_for_word(last_word)\n",
    "        if len(pronunciations) > 0:\n",
    "               rhyming_part = pronouncing.rhyming_part(pronunciations[0])\n",
    "               # group by rhyming phones (for rhymes) and words (to avoid duplicate words)\n",
    "               by_rhyming_part[rhyming_part][last_word.lower()].append(text)\n",
    "               \n",
    "               "
   ]
  },
  {
   "cell_type": "code",
   "execution_count": 58,
   "id": "figured-president",
   "metadata": {
    "scrolled": true
   },
   "outputs": [
    {
     "data": {
      "text/plain": [
       "('AO1 R W ER0 D',\n",
       " defaultdict(list,\n",
       "             {'forward': ['See, he stoops, nay, shooting forward',\n",
       "               'Down at the sand where the tide threw forward',\n",
       "               'Time three Archangels come forward',\n",
       "               'The Duke stepped rather aside than forward',\n",
       "               'Throws himself head foremost, forward',\n",
       "               'Throws himself head foremost, forward',\n",
       "               'The maddening pendulum urges me forward',\n",
       "               \"Saw her mother's dwelling, and press'd forward\",\n",
       "               'Seize its ear, and drag it forward',\n",
       "               'And the bright-hued sledge drew forward',\n",
       "               'The shark and the roach dart forward',\n",
       "               'Out of the stones. You saw him looking forward',\n",
       "               'Each foam-curled wave darts forward',\n",
       "               'No salām {36b} she gave—but hurried forward',\n",
       "               'Saw her mother’s dwelling, and press’d forward',\n",
       "               'Desire of joy beats mightily pulsing forward'],\n",
       "              'norward': ['Wind oozing thin through the thorn from norward',\n",
       "               'And the herons flapped to norward'],\n",
       "              'shoreward': ['While rolling billows my name bear shoreward',\n",
       "               'With impassive eyes turned shoreward']}))"
      ]
     },
     "execution_count": 58,
     "metadata": {},
     "output_type": "execute_result"
    }
   ],
   "source": [
    "#A random key/value pair from this dictionary, so you can see its structure:\n",
    "random_rhyming_part = random.choice(list(by_rhyming_part.keys()))\n",
    "random_rhyming_part, by_rhyming_part[random_rhyming_part]"
   ]
  },
  {
   "cell_type": "markdown",
   "id": "simplified-antenna",
   "metadata": {},
   "source": [
    "## Markov Chain text generation"
   ]
  },
  {
   "cell_type": "code",
   "execution_count": 64,
   "id": "final-single",
   "metadata": {},
   "outputs": [],
   "source": [
    "import markovify"
   ]
  },
  {
   "cell_type": "code",
   "execution_count": 65,
   "id": "associate-mining",
   "metadata": {},
   "outputs": [],
   "source": [
    "big_poem = \"\\n\".join([line['s'] for line in random.sample(all_lines, 250000)])"
   ]
  },
  {
   "cell_type": "code",
   "execution_count": 69,
   "id": "quarterly-prisoner",
   "metadata": {},
   "outputs": [
    {
     "name": "stdout",
     "output_type": "stream",
     "text": [
      "Whyl that this Moor did conceive a great wave raised me by night, the stars,\n",
      "Cauf-leather shoon to thy frown.\n",
      "Her hopes with free leave\n",
      "And first below the doorstep\n",
      "How pleasant for the manner of wood\n",
      ". . . that way . . . . . .\n",
      "Than the spots on the threshold stands\n",
      "And, for his pains.\n",
      "Owes to his quarry,--then to feed Love, but near me!\n",
      "Couched in the forsaken dwelling,\n",
      "On Him, who to her if she suffer not the mission of man I had a little shanty, in the house\n",
      "He worked and sang beneath the waters. No!--\n",
      "In the opening lines of swarthy Nubians bare up his weazon,\n",
      "Swift almost as life!\n"
     ]
    }
   ],
   "source": [
    "model = markovify.NewlineText(big_poem)\n",
    "for i in range(14):\n",
    "    print(model.make_sentence())"
   ]
  },
  {
   "cell_type": "markdown",
   "id": "worse-british",
   "metadata": {},
   "source": [
    "#This is okay but the lines don't make a lot of sense, and are sometimes too long. You can constrain the length using Markovify's .make_short_sentence() method:"
   ]
  },
  {
   "cell_type": "code",
   "execution_count": 71,
   "id": "forced-given",
   "metadata": {},
   "outputs": [
    {
     "data": {
      "text/plain": [
       "'Where brightest joys and griefs; but I must leave it stay'"
      ]
     },
     "execution_count": 71,
     "metadata": {},
     "output_type": "execute_result"
    }
   ],
   "source": [
    "model.make_short_sentence(60)"
   ]
  },
  {
   "cell_type": "code",
   "execution_count": 74,
   "id": "capital-karma",
   "metadata": {
    "scrolled": false
   },
   "outputs": [
    {
     "name": "stdout",
     "output_type": "stream",
     "text": [
      "\n",
      "My ribs are a friend;--\n",
      "Of sweetness it had done it, sir.\n",
      "\n",
      "～ ❀ ～\n",
      "\n",
      "Since she is gone out.\n",
      "My gratitude to God--\n",
      "And all the day,\n",
      "O'er their freedom protected\n",
      "many a work no other noise than that.\n",
      "\n",
      "～ ❀ ～\n",
      "\n",
      "Bound at her smote,\n",
      "although it rests awhile until\n",
      "With mirth that still be,\n",
      "particle of it, I am there,--am back.\n",
      "\n",
      "～ ❀ ～\n",
      "\n",
      "Trace the sad Sicilian maid,\n",
      "And the lean water-worm\n",
      "their beauty they would insure us,\n",
      "Five times re-illum'd, as oft you see.\n",
      "\n",
      "～ ❀ ～\n",
      "\n",
      "We should be worn, like a flight\n",
      "That falls through the dark of life.\n",
      "\n",
      "～ ❀ ～\n",
      "\n",
      "But it must be,\n",
      "The hired man takes hound,\n",
      "Thou to thy shrine.\n",
      "\n",
      "～ ❀ ～\n"
     ]
    }
   ],
   "source": [
    "for i in range(6):\n",
    "    print()\n",
    "    for i in range(random.randrange(1,5)):\n",
    "        print(model.make_short_sentence(40))\n",
    "    #ensure the last line has a period at the end for closure.\n",
    "    print(re.sub(r\"(\\w)[^\\w.]?$\", r\"\\1.\", model. make_short_sentence(40)))\n",
    "    print()\n",
    "    print(\"～ ❀ ～\")\n",
    "        "
   ]
  },
  {
   "cell_type": "code",
   "execution_count": null,
   "id": "domestic-monday",
   "metadata": {},
   "outputs": [],
   "source": []
  }
 ],
 "metadata": {
  "kernelspec": {
   "display_name": "Python 3",
   "language": "python",
   "name": "python3"
  },
  "language_info": {
   "codemirror_mode": {
    "name": "ipython",
    "version": 3
   },
   "file_extension": ".py",
   "mimetype": "text/x-python",
   "name": "python",
   "nbconvert_exporter": "python",
   "pygments_lexer": "ipython3",
   "version": "3.9.1"
  }
 },
 "nbformat": 4,
 "nbformat_minor": 5
}
